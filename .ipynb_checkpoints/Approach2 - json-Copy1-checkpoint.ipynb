{
 "cells": [
  {
   "cell_type": "markdown",
   "metadata": {},
   "source": [
    "#### ToDo\n",
    "- Take dict formatted strings, add to separate list as dicts  - DONE\n",
    "- Take error strings, add to separate list as strings - DONE\n",
    "- Perform correction operations on errornous strings (see previous files)\n",
    "- [Perform additional corrections as necessary - TBC]\n",
    "- Combine to export list\n",
    "- Export to JSON / Json lines with json.dumps\n",
    "\n",
    "## Next: Add new dicts to 'As dict', document outcome per row of doubleQuoteCharConv() in one column, delete 'doubleQuoteCharConv - dict'\n"
   ]
  },
  {
   "cell_type": "markdown",
   "metadata": {},
   "source": [
    "# Cleaning of data to output JSON master file"
   ]
  },
  {
   "cell_type": "markdown",
   "metadata": {},
   "source": [
    "## Setup"
   ]
  },
  {
   "cell_type": "code",
   "execution_count": 1,
   "metadata": {},
   "outputs": [],
   "source": [
    "import json\n",
    "import pandas as pd\n",
    "import numpy as np\n",
    "import os\n",
    "\n",
    "pd.set_option('display.max_rows', 500)\n",
    "pd.set_option('display.max_columns', 500)\n",
    "\n",
    "#file = './raw-data/Open-trivia-database-master/Open-trivia-database-master/en/todo/uncategorized.json'\n",
    "folder = './raw-data/Open-trivia-database-master/Open-trivia-database-master/en/todo/'\n"
   ]
  },
  {
   "cell_type": "markdown",
   "metadata": {},
   "source": [
    "## Function definitions"
   ]
  },
  {
   "cell_type": "code",
   "execution_count": 2,
   "metadata": {},
   "outputs": [],
   "source": [
    "# Function that reads input file(s) from folder and creates df\n",
    "def importData(x):\n",
    "    directory = os.fsencode(x)\n",
    "    dataListFull = []\n",
    "    \n",
    "    for file in os.listdir(directory):\n",
    "        filename = os.fsdecode(file)\n",
    "        if filename.endswith('.json'):\n",
    "            dataList = []\n",
    "            with open(directory + file, encoding=\"utf8\") as f:\n",
    "                data = f.read()\n",
    "\n",
    "\n",
    "            lineiterator = data.splitlines()\n",
    "            for row in lineiterator:\n",
    "                dataList.append(row.strip()[:-1])\n",
    "            del dataList[0]\n",
    "            del dataList[-1]\n",
    "            dataListFull.extend(dataList)\n",
    "        \n",
    "    return dataListFull"
   ]
  },
  {
   "cell_type": "code",
   "execution_count": 3,
   "metadata": {},
   "outputs": [],
   "source": [
    "# Function that converts string to dict using eval() when possible. Errors are handled in except and error text returned for log.\n",
    "def dictConv1(x):\n",
    "    try:\n",
    "        return eval(x)\n",
    "    except:\n",
    "        return \"ERROR-Incorrect formatting for dict conversion\""
   ]
  },
  {
   "cell_type": "code",
   "execution_count": 4,
   "metadata": {},
   "outputs": [],
   "source": [
    "# Function that replaces double quote char with single quote within the question part of the broken JSON object.\n",
    "# Returns dict if possible\n",
    "# If error: returns string with potentially corrected object + info (corrected and dict success; corrected, still error; not corrected, still error)\n",
    "\n",
    "def doubleQuoteCharConv(x):\n",
    "    qStartStr = '\"question\":\"'\n",
    "    qEndStr = '\", \"answer\"'\n",
    "    stringUsed = x\n",
    "    start = stringUsed.find(qStartStr) + len(qStartStr)\n",
    "    end = stringUsed.find(qEndStr)\n",
    "    correctionPerformed = \"False\"\n",
    "    \n",
    "    if stringUsed[start:end].find('\"') != -1:\n",
    "        correctionPerformed = \"True\"\n",
    "    \n",
    "    qCorrected = stringUsed[start:end].replace('\"', \"'\")\n",
    "    stringCorrected = stringUsed[:start] + qCorrected + stringUsed[end:]\n",
    "    \n",
    "    if correctionPerformed == 'True':\n",
    "        return stringCorrected + '_correctionPerformed_' + correctionPerformed\n",
    "    else:\n",
    "        return '_correctionPerformed_' + correctionPerformed\n"
   ]
  },
  {
   "cell_type": "code",
   "execution_count": 5,
   "metadata": {},
   "outputs": [],
   "source": [
    "# Function that saves index and best string of error strings to csv file for manual correction\n",
    "def errorsToCsv(x):\n",
    "    x.to_csv('./edited-data/errorsForManualCorr.csv', encoding='utf-8')"
   ]
  },
  {
   "cell_type": "code",
   "execution_count": 6,
   "metadata": {},
   "outputs": [],
   "source": [
    "# Function that takes file with manually corrected strings, adds to df, converts to dict, updates log\n",
    "# Save correction file in ./edited-data/corrected.csv\n",
    "def correctionsToDf(x):\n",
    "    dfTemp = pd.read_csv('./edited-data/corrected.csv', encoding='utf-8')\n",
    "    dfTemp.set_index('Unnamed: 0', inplace = True)\n",
    "    x['ManualCorrections'] = dfTemp['Best string']\n",
    "    x.loc[x['ManualCorrections'].notnull() ,'ManualCorrections'] = x.loc[x['ManualCorrections'].notnull() ,'ManualCorrections'].apply(lambda y: dictConv1(y))"
   ]
  },
  {
   "cell_type": "code",
   "execution_count": 7,
   "metadata": {},
   "outputs": [],
   "source": [
    "# Function that converts df to export form, exports to json\n",
    "def exportJson(x):\n",
    "    jsonData = json.dumps(x.tolist())\n",
    "    \n",
    "    with open(\"./edited-data/fixedJson.json\", \"w+\") as f:\n",
    "        f.write(jsonData)"
   ]
  },
  {
   "cell_type": "markdown",
   "metadata": {},
   "source": [
    "## Opening data and running functions"
   ]
  },
  {
   "cell_type": "code",
   "execution_count": 8,
   "metadata": {},
   "outputs": [
    {
     "data": {
      "text/plain": [
       "'with open(file, encoding=\"utf8\") as f:\\n    data = f.read()'"
      ]
     },
     "execution_count": 8,
     "metadata": {},
     "output_type": "execute_result"
    }
   ],
   "source": [
    "# Open file\n",
    "\"\"\"with open(file, encoding=\"utf8\") as f:\n",
    "    data = f.read()\"\"\""
   ]
  },
  {
   "cell_type": "code",
   "execution_count": 9,
   "metadata": {},
   "outputs": [
    {
     "data": {
      "text/plain": [
       "'dataList = []\\nlineiterator = data.splitlines()\\nfor row in lineiterator:\\n    dataList.append(row.strip()[:-1])\\ndel dataList[0]\\ndel dataList[-1]'"
      ]
     },
     "execution_count": 9,
     "metadata": {},
     "output_type": "execute_result"
    }
   ],
   "source": [
    "# Read (potentially broken) JSON to list\n",
    "\"\"\"dataList = []\n",
    "lineiterator = data.splitlines()\n",
    "for row in lineiterator:\n",
    "    dataList.append(row.strip()[:-1])\n",
    "del dataList[0]\n",
    "del dataList[-1]\"\"\"\n"
   ]
  },
  {
   "cell_type": "code",
   "execution_count": 10,
   "metadata": {},
   "outputs": [],
   "source": [
    "# Run importData() function. Create pandas dataframe and add list data to \"Original data str\" column.\n",
    "\n",
    "dataListFull = importData(folder)\n",
    "\n",
    "df = pd.DataFrame(dataListFull)\n",
    "df = df.rename(columns={0: \"Original data str\"})\n"
   ]
  },
  {
   "cell_type": "code",
   "execution_count": 11,
   "metadata": {},
   "outputs": [],
   "source": [
    "# Creates 'As dict' master column in df. Runs dictConv1(), populates 'As dict' and saves outcome of function run in 'Run dictConv1'\n",
    "df['Run dictConv1'] = df[\"Original data str\"].apply(lambda x: dictConv1(x))\n",
    "df['As dict'] = df['Run dictConv1'].where(df['Run dictConv1'] != 'ERROR-Incorrect formatting for dict conversion')\n",
    "\n",
    "# Insert 'Success' in place of dict that was moved to 'As dict'\n",
    "df.loc[df['Run dictConv1'] != 'ERROR-Incorrect formatting for dict conversion', 'Run dictConv1'] = 'SUCCESS'\n",
    "\n",
    "# Change order of columns\n",
    "df = df[[\"Original data str\", \"As dict\", \"Run dictConv1\"]]\n",
    "\n",
    "# Create 'Best string' column to store updated versions of data as string that cannot yet be converted to dict\n",
    "df['Best string'] = df['Original data str']\n",
    "# Create 'Row log' to store info of final row status\n",
    "df['Row log'] = 'STR - No update done'\n",
    "df.loc[df['Run dictConv1'] != 'ERROR-Incorrect formatting for dict conversion', 'Row log'] = 'DICT - Converted to dict on first attempt'"
   ]
  },
  {
   "cell_type": "code",
   "execution_count": 12,
   "metadata": {},
   "outputs": [],
   "source": [
    "# Runs doubleQuoteCharConv(), adds new dicts to 'As dict'\n",
    "df['Run doubleQuoteCharConv'] = df.loc[df['Run dictConv1'] != 'SUCCESS', 'Original data str'].apply(lambda x: doubleQuoteCharConv(x))\n",
    "df[['doubleQuoteCharConv - str','doubleQuoteCharConv - perf']] = df['Run doubleQuoteCharConv'].str.split(\"_correctionPerformed_\",expand=True)\n",
    "df['doubleQuoteCharConv - str'].replace(\"\", np.nan, inplace=True)\n",
    "df['doubleQuoteCharConv - dict'] = df.loc[df['doubleQuoteCharConv - perf'] == 'True' ,'doubleQuoteCharConv - str'].apply(lambda x: dictConv1(x))\n",
    "\n",
    "\n",
    "# 1. New dicts filtered from 'doubleQuoteCharConv - dict'\n",
    "newDicts =  df.loc[df['doubleQuoteCharConv - dict'].notnull(), 'doubleQuoteCharConv - dict'].loc[df['doubleQuoteCharConv - dict'] != 'ERROR-Incorrect formatting for dict conversion']\n",
    "# 2. New dicts put at right index to 'As dict'\n",
    "df.loc[newDicts.index, 'As dict'] = newDicts\n",
    "# 3. Update 'Best string' with rows not converted to dict\n",
    "df.loc[df['doubleQuoteCharConv - perf'] == 'True', 'Best string'] = df.loc[df['doubleQuoteCharConv - perf'] == 'True', 'doubleQuoteCharConv - str']\n",
    "# 4. Update logs\n",
    "toDictsI = newDicts.index\n",
    "newStringnoDictI = df.loc[df['doubleQuoteCharConv - dict'] == 'ERROR-Incorrect formatting for dict conversion', 'doubleQuoteCharConv - str'].index\n",
    "df.loc[toDictsI, 'Row log'] = 'DICT - Corrected double quotes in q and converted to dict'\n",
    "df.loc[newStringnoDictI, 'Row log'] = 'STR - Corrected double quotes in q - json format errors persist. Best string updated.'"
   ]
  },
  {
   "cell_type": "code",
   "execution_count": 13,
   "metadata": {},
   "outputs": [],
   "source": [
    "# Select error rows and run errorsToCsv()\n",
    "errorRowsforManual = df.loc[(df['Row log'] == 'STR - Corrected double quotes in q - json format errors persist. Best string updated.') | (df['Row log'] == 'STR - No update done') ,'Best string']\n",
    "errorsToCsv(errorRowsforManual)"
   ]
  },
  {
   "cell_type": "code",
   "execution_count": 14,
   "metadata": {},
   "outputs": [
    {
     "name": "stdout",
     "output_type": "stream",
     "text": [
      "Row log\n",
      "DICT - Converted to dict on first attempt                                                43985\n",
      "DICT - Corrected double quotes in q and converted to dict                                 1621\n",
      "STR - Corrected double quotes in q - json format errors persist. Best string updated.        6\n",
      "STR - No update done                                                                        22\n",
      "Name: Original data str, dtype: int64\n"
     ]
    }
   ],
   "source": [
    "print(df.groupby('Row log').count()['Original data str'])"
   ]
  },
  {
   "cell_type": "markdown",
   "metadata": {},
   "source": [
    "## Run after manual corrections done and saved to ./edited-data/corrected.csv"
   ]
  },
  {
   "cell_type": "code",
   "execution_count": 15,
   "metadata": {},
   "outputs": [],
   "source": [
    "# Run correctionsToDf(), update 'As dict' if possible and update logs\n",
    "correctionsToDf(df)\n",
    "\n",
    "df.loc[(df['ManualCorrections'].notnull()) & (df['ManualCorrections'] != '\"ERROR-Incorrect formatting for dict conversion\"') , 'As dict'] = df.loc[(df['ManualCorrections'].notnull()) & (df['ManualCorrections'] != '\"ERROR-Incorrect formatting for dict conversion\"') , 'ManualCorrections']\n",
    "df.loc[(df['ManualCorrections'].notnull()) & (df['ManualCorrections'] != '\"ERROR-Incorrect formatting for dict conversion\"') , 'Row log'] = 'DICT - Manually corrected'\n",
    "df.loc[(df['ManualCorrections'] == '\"ERROR-Incorrect formatting for dict conversion\"') , 'Row log'] = 'STR - Manually corrected, still error'"
   ]
  },
  {
   "cell_type": "code",
   "execution_count": 16,
   "metadata": {},
   "outputs": [
    {
     "name": "stdout",
     "output_type": "stream",
     "text": [
      "Row log\n",
      "DICT - Converted to dict on first attempt                    43985\n",
      "DICT - Corrected double quotes in q and converted to dict     1621\n",
      "DICT - Manually corrected                                       28\n",
      "Name: Original data str, dtype: int64\n"
     ]
    }
   ],
   "source": [
    "print(df.groupby('Row log').count()['Original data str'])"
   ]
  },
  {
   "cell_type": "markdown",
   "metadata": {},
   "source": [
    "## Export usabel JSON"
   ]
  },
  {
   "cell_type": "code",
   "execution_count": 17,
   "metadata": {},
   "outputs": [],
   "source": [
    "exportJson(df['As dict'])"
   ]
  },
  {
   "cell_type": "markdown",
   "metadata": {},
   "source": [
    "# Output printing:"
   ]
  },
  {
   "cell_type": "code",
   "execution_count": null,
   "metadata": {},
   "outputs": [],
   "source": [
    "print(len(df))\n",
    "print(df.groupby('Row log').count()['Original data str'])"
   ]
  },
  {
   "cell_type": "code",
   "execution_count": null,
   "metadata": {},
   "outputs": [],
   "source": [
    "#print(type(df['As dict'].tolist()))\n",
    "jsonData = json.dumps(df['As dict'].tolist())\n",
    "\n",
    "with open(\"./edited-data/uncategorized-fixed.json\", \"w+\") as f:\n",
    "    f.write(jsonData)"
   ]
  },
  {
   "cell_type": "code",
   "execution_count": null,
   "metadata": {},
   "outputs": [],
   "source": [
    "print(df.loc[df['ManualCorrections'].notnull() , 'ManualCorrections'])\n",
    "\n"
   ]
  },
  {
   "cell_type": "code",
   "execution_count": null,
   "metadata": {},
   "outputs": [],
   "source": [
    "df.loc[(df['ManualCorrections'].notnull()) & (df['ManualCorrections'] != '\"ERROR-Incorrect formatting for dict conversion\"') , 'As dict'] = df.loc[(df['ManualCorrections'].notnull()) & df['ManualCorrections'] != '\"ERROR-Incorrect formatting for dict conversion\"' , 'ManualCorrections']"
   ]
  },
  {
   "cell_type": "code",
   "execution_count": null,
   "metadata": {},
   "outputs": [],
   "source": [
    "print(df.loc[df['ManualCorrections'].notnull() , :])"
   ]
  },
  {
   "cell_type": "code",
   "execution_count": null,
   "metadata": {},
   "outputs": [],
   "source": [
    "print(df.loc[(df['Row log'] == 'STR - Corrected double quotes in q - json format errors persist. Best string updated.') | (df['Row log'] == 'STR - No update done') ,['Best string', 'Row log']])"
   ]
  },
  {
   "cell_type": "code",
   "execution_count": null,
   "metadata": {},
   "outputs": [],
   "source": [
    "print(df.loc['Row log'][:3])"
   ]
  },
  {
   "cell_type": "code",
   "execution_count": null,
   "metadata": {},
   "outputs": [],
   "source": [
    "dfTest = pd.read_csv('./edited-data/corrected.csv', encoding='utf-8')\n",
    "dfTest.set_index('Unnamed: 0', inplace = True)"
   ]
  },
  {
   "cell_type": "code",
   "execution_count": null,
   "metadata": {},
   "outputs": [],
   "source": [
    "print(dfTest)"
   ]
  },
  {
   "cell_type": "code",
   "execution_count": null,
   "metadata": {},
   "outputs": [],
   "source": [
    "df['TEST'] = dfTest['Best string']"
   ]
  },
  {
   "cell_type": "code",
   "execution_count": null,
   "metadata": {},
   "outputs": [],
   "source": [
    "print(df.loc[1320:1340, :])"
   ]
  },
  {
   "cell_type": "code",
   "execution_count": null,
   "metadata": {},
   "outputs": [],
   "source": [
    "print(df.groupby('Row log').count()['Original data str'])"
   ]
  },
  {
   "cell_type": "code",
   "execution_count": null,
   "metadata": {},
   "outputs": [],
   "source": [
    "print(df.loc[df['doubleQuoteCharConv - dict'] == 'ERROR-Incorrect formatting for dict conversion', 'doubleQuoteCharConv - str'].index)\n",
    "print(df.loc[df['doubleQuoteCharConv - perf'] == 'False', 'doubleQuoteCharConv - str'].index)"
   ]
  },
  {
   "cell_type": "code",
   "execution_count": null,
   "metadata": {},
   "outputs": [],
   "source": [
    "print(len(df))\n",
    "print(len(df.loc[df['As dict'].isnull()]))\n",
    "print(df.loc[df['As dict'].isnull()])"
   ]
  },
  {
   "cell_type": "code",
   "execution_count": null,
   "metadata": {},
   "outputs": [],
   "source": [
    "df.loc[df['doubleQuoteCharConv - dict'] == 'ERROR-Incorrect formatting for dict conversion', 'Best string'] = df.loc[df['doubleQuoteCharConv - dict'] == 'ERROR-Incorrect formatting for dict conversion', 'doubleQuoteCharConv - str']"
   ]
  },
  {
   "cell_type": "code",
   "execution_count": null,
   "metadata": {},
   "outputs": [],
   "source": [
    "print(df.loc[22998,'Original data str'])\n",
    "print(df.loc[22998,'Best string'])"
   ]
  },
  {
   "cell_type": "code",
   "execution_count": null,
   "metadata": {},
   "outputs": [],
   "source": [
    "\"\"\"newDicts =  df.loc[df['doubleQuoteCharConv - dict'].notnull(), 'doubleQuoteCharConv - dict'].loc[df['doubleQuoteCharConv - dict'] != 'ERROR-Incorrect formatting for dict conversion']\n",
    "print(len(newDicts))\n",
    "print(type(newDicts.loc[64]))\n",
    "print(newDicts.head(100))\"\"\"\n",
    "\n",
    "newDicts =  df.loc[df['doubleQuoteCharConv - dict'].notnull(), 'doubleQuoteCharConv - dict'].loc[df['doubleQuoteCharConv - dict'] != 'ERROR-Incorrect formatting for dict conversion']\n",
    "df.loc[newDicts.index, 'As dict'] = newDicts\n",
    "#print(df.loc[newDicts.index, 'As dict'])\n",
    "\n",
    "print(type(df.loc[0, 'As dict']))\n",
    "print(type(df.loc[64, 'As dict']))\n",
    "\n",
    "print(df['As dict'].head(100))"
   ]
  },
  {
   "cell_type": "code",
   "execution_count": null,
   "metadata": {},
   "outputs": [],
   "source": [
    "print(df.iloc[65, -1])\n",
    "print(type(df.iloc[64, -1]))\n",
    "print(len(df.loc[df['doubleQuoteCharConv - dict'].notnull()]))\n",
    "print(len(df.loc[df['As dict'].notnull()]))\n",
    "print(len(df.loc[df['As dict'].isnull()]))\n",
    "print(len(df.loc[df['As dict'].notnull()]) + len(df.loc[df['As dict'].isnull()]))\n",
    "print(len(df))\n",
    "print('\\n')\n",
    "print(len( df.loc[df['doubleQuoteCharConv - dict'].notnull()] ))\n",
    "print(len(df.loc[df['As dict'].isnull()]))\n",
    "# print(len(df.loc[df['doubleQuoteCharConv - dict'].notnull()].loc[df['doubleQuoteCharConv - dict'] != 'ERROR-Incorrect formatting for dict conversion'])) - Byter ut alla, också de som är null"
   ]
  },
  {
   "cell_type": "code",
   "execution_count": null,
   "metadata": {},
   "outputs": [],
   "source": [
    "#print(df.iloc[1327, 5])\n",
    "#print(type(df.iloc[1327, 5]))\n",
    "\n",
    "print(df.columns.values)\n",
    "print('\\n')\n",
    "print(df.loc[df['doubleQuoteCharConv - dict'] == \"ERROR-Incorrect formatting for dict conversion\"].iloc[1,0])\n",
    "print(df.loc[df['doubleQuoteCharConv - dict'] == \"ERROR-Incorrect formatting for dict conversion\"].iloc[1,-3])\n",
    "print('\\n')\n",
    "print(len(df.loc[df['doubleQuoteCharConv - dict'] == \"ERROR-Incorrect formatting for dict conversion\"]))\n",
    "print(len(df.loc[df['doubleQuoteCharConv - dict'].notnull()]))\n",
    "\n",
    "print(type(df['doubleQuoteCharConv - dict']))\n",
    "#print(df.iloc[0, 3])\n",
    "#print('\\n')\n",
    "#print(len(df.loc[df['Run doubleQuoteCharConv'].notnull()]))\n",
    "#print(df.loc[df['Run doubleQuoteCharConv'].notnull()].head(100))"
   ]
  },
  {
   "cell_type": "code",
   "execution_count": null,
   "metadata": {},
   "outputs": [],
   "source": [
    "print(len(df.loc[df['doubleQuoteCharConv - dict'].notnull(), 'doubleQuoteCharConv - dict'].loc[df['doubleQuoteCharConv - dict'] != 'ERROR-Incorrect formatting for dict conversion']))\n",
    "#print(df.loc[df['doubleQuoteCharConv - dict'].notnull(), 'doubleQuoteCharConv - dict'].loc[df['doubleQuoteCharConv - dict'] != 'ERROR-Incorrect formatting for dict conversion'].head(100))\n",
    "\n",
    "print(df.loc[df['doubleQuoteCharConv - dict'].notnull(), 'doubleQuoteCharConv - dict'].loc[df['doubleQuoteCharConv - dict'] == 'ERROR-Incorrect formatting for dict conversion'])\n",
    "\n",
    "#print(df.loc[df['doubleQuoteCharConv - dict'].notnull(), 'doubleQuoteCharConv - dict'].head(100))\n",
    "print(len(df.loc[df['doubleQuoteCharConv - dict'].notnull(), 'doubleQuoteCharConv - dict']))"
   ]
  },
  {
   "cell_type": "markdown",
   "metadata": {},
   "source": [
    "# Test etc. -->"
   ]
  },
  {
   "cell_type": "code",
   "execution_count": null,
   "metadata": {},
   "outputs": [],
   "source": [
    "testString = '{\"category_id\":\"UNCATEGORIZED\", \"lang\":\"en\", \"tags\":[], \"question\":\"The word \"cumulus\" refers to a type of ___________.\"\", \"answer\":0, \"answers\":[\"Cloud\"], \"source\":\"\"}'\n",
    "testOut = doubleQuoteCharConv(testString)\n",
    "print(testOut[:-25])\n",
    "print(type(testOut))\n",
    "\n",
    "print(type(dictConv1(testOut[:-25])))"
   ]
  },
  {
   "cell_type": "code",
   "execution_count": null,
   "metadata": {},
   "outputs": [],
   "source": [
    "#print(df[\"Original data str\"].where(df['As dict'] == 'NaN').head(100))\n",
    "print(len(df.loc[df['Run dictConv1'] != 'SUCCESS', 'Original data str']))\n",
    "print(df.loc[df['Run dictConv1'] != 'SUCCESS', 'Original data str'].head(100))\n",
    "#print(df[\"Original data str\"].head(100))"
   ]
  }
 ],
 "metadata": {
  "kernelspec": {
   "display_name": "Python 3",
   "language": "python",
   "name": "python3"
  },
  "language_info": {
   "codemirror_mode": {
    "name": "ipython",
    "version": 3
   },
   "file_extension": ".py",
   "mimetype": "text/x-python",
   "name": "python",
   "nbconvert_exporter": "python",
   "pygments_lexer": "ipython3",
   "version": "3.8.2"
  }
 },
 "nbformat": 4,
 "nbformat_minor": 4
}
