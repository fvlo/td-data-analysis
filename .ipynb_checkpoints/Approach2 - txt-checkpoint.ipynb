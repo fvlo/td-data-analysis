{
 "cells": [
  {
   "cell_type": "markdown",
   "metadata": {},
   "source": [
    "#### Seems to be no difference between using txt or json"
   ]
  },
  {
   "cell_type": "code",
   "execution_count": null,
   "metadata": {},
   "outputs": [],
   "source": [
    "import json\n",
    "import ast\n",
    "\n",
    "#file = './raw-data/Open-trivia-database-master/Open-trivia-database-master/en/todo/uncategorized.json'\n",
    "file = './edited-data/uncategorized-encodedUTF8.txt'"
   ]
  },
  {
   "cell_type": "code",
   "execution_count": null,
   "metadata": {},
   "outputs": [],
   "source": [
    "\"\"\"with open(file, encoding=\"utf8\") as f:\n",
    "    data = f.read()\"\"\""
   ]
  },
  {
   "cell_type": "code",
   "execution_count": null,
   "metadata": {},
   "outputs": [],
   "source": [
    "with open(file, mode='rb') as f:\n",
    "    data = f.read().decode(encoding='UTF-8', errors='replace')"
   ]
  },
  {
   "cell_type": "code",
   "execution_count": null,
   "metadata": {},
   "outputs": [],
   "source": [
    "dataList = []\n",
    "lineiterator = data.splitlines()\n",
    "for row in lineiterator:\n",
    "    dataList.append(row.strip()[:-1])\n",
    "del dataList[0]\n",
    "#del dataList[-1]\n"
   ]
  },
  {
   "cell_type": "code",
   "execution_count": null,
   "metadata": {},
   "outputs": [],
   "source": [
    "print(type(dataList[-1]))\n",
    "print('\\n')\n",
    "print(len(dataList))\n",
    "print('\\n')\n",
    "print(dataList[:20])\n",
    "print('\\n')\n",
    "print(dataList[-20:])\n",
    "print('\\n')\n",
    "print(dataList[0])"
   ]
  }
 ],
 "metadata": {
  "kernelspec": {
   "display_name": "Python 3",
   "language": "python",
   "name": "python3"
  },
  "language_info": {
   "codemirror_mode": {
    "name": "ipython",
    "version": 3
   },
   "file_extension": ".py",
   "mimetype": "text/x-python",
   "name": "python",
   "nbconvert_exporter": "python",
   "pygments_lexer": "ipython3",
   "version": "3.8.2"
  }
 },
 "nbformat": 4,
 "nbformat_minor": 4
}
