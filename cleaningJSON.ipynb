{
 "cells": [
  {
   "cell_type": "markdown",
   "metadata": {},
   "source": [
    "### Setup cell:"
   ]
  },
  {
   "cell_type": "code",
   "execution_count": null,
   "metadata": {},
   "outputs": [],
   "source": [
    "import re\n",
    "import pandas as pd\n",
    "import json\n",
    "\n",
    "file = './raw-data/Open-trivia-database-master/Open-trivia-database-master/en/todo/uncategorized.json'"
   ]
  },
  {
   "cell_type": "markdown",
   "metadata": {},
   "source": [
    "### Use this code to fix the issue:\n",
    "\n",
    "https://stackoverflow.com/questions/40150405/python-how-to-escape-double-quote-inside-json-string-value"
   ]
  },
  {
   "cell_type": "code",
   "execution_count": null,
   "metadata": {},
   "outputs": [],
   "source": [
    "#Example string\n",
    "#json = '{\"name\": \"Jack O\"Sullivan\", \"id\": \"1\"}'\n",
    "\n",
    "fixed = re.sub(r'(\"[\\s\\w]*)\"([\\s\\w]*\")',r\"\\1\\'\\2\", json)\n",
    "print(fixed)\n",
    "print(type(json))\n",
    "print(type(fixed))"
   ]
  },
  {
   "cell_type": "markdown",
   "metadata": {},
   "source": [
    "### Not used:\n",
    "Reads file content into list, each row new item."
   ]
  },
  {
   "cell_type": "code",
   "execution_count": null,
   "metadata": {},
   "outputs": [],
   "source": [
    "dataList = []\n",
    "with open(file) as f:\n",
    "    for line in f:\n",
    "        dataList.append(line)\n",
    "    \n",
    "print(type(dataList))\n",
    "print(dataList)"
   ]
  },
  {
   "cell_type": "markdown",
   "metadata": {},
   "source": [
    "### Attempt to clean data:\n",
    "Code does remove (some?) single \" within JSON data. Does not remove second \" in data."
   ]
  },
  {
   "cell_type": "code",
   "execution_count": null,
   "metadata": {},
   "outputs": [],
   "source": [
    "with open(file, encoding=\"utf8\") as f:\n",
    "    dataStr = f.read()\n",
    "\n",
    "fixedJson = re.sub(r'(\"[\\s\\w]*)\"([\\s\\w]*\")',r\"\\1\\'\\2\", dataStr)    \n",
    "\n",
    "print(type(dataStr))\n",
    "print(len(dataStr))\n",
    "print(dataStr[:100])\n",
    "print(\"--------------------------------------------------\")\n",
    "print(type(fixedJson))\n",
    "print(len(fixedJson))\n",
    "print(fixedJson[:100])"
   ]
  },
  {
   "cell_type": "markdown",
   "metadata": {},
   "source": [
    "Export result to text file (works)"
   ]
  },
  {
   "cell_type": "code",
   "execution_count": null,
   "metadata": {},
   "outputs": [],
   "source": [
    "with open(\"fixedTest.json\", \"w+\") as f:\n",
    "    f.write(fixedJson)"
   ]
  },
  {
   "cell_type": "markdown",
   "metadata": {},
   "source": [
    "Running the same code again does not give expected result."
   ]
  },
  {
   "cell_type": "code",
   "execution_count": null,
   "metadata": {},
   "outputs": [],
   "source": [
    "with open(\"fixedTest.json\") as f:\n",
    "    dataStr = f.read()\n",
    "\n",
    "fixedJson2 = re.sub(r'(\"[\\s\\w]*)\"([\\s\\w]*\")',r\"\\1\\'\\2\", dataStr)"
   ]
  },
  {
   "cell_type": "code",
   "execution_count": null,
   "metadata": {},
   "outputs": [],
   "source": [
    "with open(\"fixedTest2.json\", \"w+\") as f:\n",
    "    f.write(fixedJson2)\n"
   ]
  }
 ],
 "metadata": {
  "kernelspec": {
   "display_name": "Python 3",
   "language": "python",
   "name": "python3"
  },
  "language_info": {
   "codemirror_mode": {
    "name": "ipython",
    "version": 3
   },
   "file_extension": ".py",
   "mimetype": "text/x-python",
   "name": "python",
   "nbconvert_exporter": "python",
   "pygments_lexer": "ipython3",
   "version": "3.8.2"
  }
 },
 "nbformat": 4,
 "nbformat_minor": 4
}
