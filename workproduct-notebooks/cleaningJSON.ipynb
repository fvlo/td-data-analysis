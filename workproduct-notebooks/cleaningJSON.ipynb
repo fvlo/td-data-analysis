{
 "cells": [
  {
   "cell_type": "code",
   "execution_count": 3,
   "metadata": {},
   "outputs": [
    {
     "name": "stdout",
     "output_type": "stream",
     "text": [
      "{\"category_id\":\"UNCATEGORIZED\", \"lang\":\"en\", \"tags\":[], \"question\":\"An \"omniscient\" person has unlimited __________.\", \"answer\":0, \"answers\":[\"Knowledge\"], \"source\":\"\"},\n"
     ]
    }
   ],
   "source": [
    "myString = '{\"category_id\":\"UNCATEGORIZED\", \"lang\":\"en\", \"tags\":[], \"question\":\"An \\\"omniscient\\\" person has unlimited __________.\", \"answer\":0, \"answers\":[\"Knowledge\"], \"source\":\"\"},'\n",
    "decoded_string = bytes(myString, \"utf-8\").decode(\"unicode_escape\") # python3 \n",
    "# decoded_string = myString.decode('string_escape')\n",
    "print(decoded_string)"
   ]
  },
  {
   "cell_type": "code",
   "execution_count": 8,
   "metadata": {},
   "outputs": [
    {
     "name": "stdout",
     "output_type": "stream",
     "text": [
      "<class 'float'>\n",
      "False\n",
      "<class 'float'>\n",
      "True\n"
     ]
    }
   ],
   "source": [
    "a = 2\n",
    "b = 2000\n",
    "c = 1000\n",
    "\n",
    "ab = a/c\n",
    "print(type(ab))\n",
    "print(ab.is_integer())\n",
    "\n",
    "bc = b/c\n",
    "print(type(bc))\n",
    "print(bc.is_integer())"
   ]
  }
 ],
 "metadata": {
  "kernelspec": {
   "display_name": "Python 3",
   "language": "python",
   "name": "python3"
  },
  "language_info": {
   "codemirror_mode": {
    "name": "ipython",
    "version": 3
   },
   "file_extension": ".py",
   "mimetype": "text/x-python",
   "name": "python",
   "nbconvert_exporter": "python",
   "pygments_lexer": "ipython3",
   "version": "3.8.2"
  }
 },
 "nbformat": 4,
 "nbformat_minor": 4
}
