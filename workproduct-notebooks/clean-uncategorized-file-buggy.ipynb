{
 "cells": [
  {
   "cell_type": "code",
   "execution_count": 23,
   "metadata": {},
   "outputs": [],
   "source": [
    "#file = './raw-data/Open-trivia-database-master/Open-trivia-database-master/en/todo/uncategorized.json'"
   ]
  },
  {
   "cell_type": "code",
   "execution_count": 24,
   "metadata": {},
   "outputs": [],
   "source": [
    "file = 'testData.json'\n",
    "\n",
    "# Limit operation to \"question\" part of data.\n",
    "qStartStr = '\"question\":\"'\n",
    "qEndStr = '\", \"answer\"'"
   ]
  },
  {
   "cell_type": "code",
   "execution_count": 25,
   "metadata": {},
   "outputs": [],
   "source": [
    "# Read file to string\n",
    "with open(file) as f:\n",
    "    data = f.read()"
   ]
  },
  {
   "cell_type": "code",
   "execution_count": 28,
   "metadata": {},
   "outputs": [
    {
     "name": "stdout",
     "output_type": "stream",
     "text": [
      "[\n",
      "-1\n",
      "    {\"category_id\":\"UNCATEGORIZED\", \"lang\":\"en\", \"tags\":[], \"question\":\"_____ of Love' by Frankie Lymon\", \"answer\":0, \"answers\":[\"ABC's\"], \"source\":\"\"},\n",
      "-1\n",
      "    {\"category_id\":\"UNCATEGORIZED\", \"lang\":\"en\", \"tags\":[], \"question\":\"A clip, shaped like a bar to keep a woman's hair in place is a _______.\", \"answer\":0, \"answers\":[\"Barrette\"], \"source\":\"\"},\n",
      "-1\n",
      "    {\"category_id\":\"UNCATEGORIZED\", \"lang\":\"en\", \"tags\":[], \"question\":\"A depilatory is a substance used for removing _______.\", \"answer\":0, \"answers\":[\"Hair\"], \"source\":\"\"},\n",
      "4\n",
      "    {\"category_id\":\"UNCATEGORIZED\", \"lang\":\"en\", \"tags\":[], \"question\":\"An \"omniscient\" person has unlimited __________.\", \"answer\":0, \"answers\":[\"Knowledge\"], \"source\":\"\"},\n",
      "9\n",
      "    {\"category_id\":\"UNCATEGORIZED\", \"lang\":\"en\", \"tags\":[], \"question\":\"The word \"cumulus\" refers to a type of ___________.\"\", \"answer\":0, \"answers\":[\"Cloud\"], \"source\":\"\"},\n",
      "-1\n",
      "    {\"category_id\":\"UNCATEGORIZED\", \"lang\":\"en\", \"tags\":[], \"question\":\"Zymurgy is a branch of chemistry concerning what process\", \"answer\":0, \"answers\":[\"Brewing fermentation\"], \"source\":\"\"}\n",
      "]\n"
     ]
    }
   ],
   "source": [
    "# Handle each row in given data file.\n",
    "lineiterator = data.splitlines()\n",
    "for row in lineiterator:\n",
    "    stringUsed = row\n",
    "    start = stringUsed.find(qStartStr) + len(qStartStr)\n",
    "    end = stringUsed.find(qEndStr)\n",
    "    \n",
    "    # Exclude bracket only lines.\n",
    "    if len(stringUsed) > 1:      \n",
    "        \n",
    "        # Exclude lines with escaped double brackets.\n",
    "        print(stringUsed[start:end].find('\\\"'))\n",
    "        #if stringUsed[start:end].find('\\\"') == -1:\n",
    "        stringCorrected = stringUsed[start:end].replace('\\\\', \"\")\n",
    "        row = row[:start] + stringCorrected + row[end:]\n",
    "    \n",
    "    # Add handled row to file.\n",
    "    with open(\"fixedData.json\", \"a+\") as f:\n",
    "        #f.write(row + '\\n')\n",
    "        print(row)"
   ]
  },
  {
   "cell_type": "code",
   "execution_count": null,
   "metadata": {},
   "outputs": [],
   "source": []
  }
 ],
 "metadata": {
  "kernelspec": {
   "display_name": "Python 3",
   "language": "python",
   "name": "python3"
  },
  "language_info": {
   "codemirror_mode": {
    "name": "ipython",
    "version": 3
   },
   "file_extension": ".py",
   "mimetype": "text/x-python",
   "name": "python",
   "nbconvert_exporter": "python",
   "pygments_lexer": "ipython3",
   "version": "3.8.2"
  }
 },
 "nbformat": 4,
 "nbformat_minor": 4
}
