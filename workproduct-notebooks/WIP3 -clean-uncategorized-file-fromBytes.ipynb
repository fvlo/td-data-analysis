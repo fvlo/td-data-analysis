{
 "cells": [
  {
   "cell_type": "markdown",
   "metadata": {},
   "source": [
    "# ToDo\n",
    "- convert lines into python dicts (json.loads)\n",
    "- add python dicts into python list\n",
    "- export to json file (json.loads)\n",
    "- may be necessary to escape all characters --> each row to python object --> then turn to json"
   ]
  },
  {
   "cell_type": "code",
   "execution_count": 1,
   "metadata": {},
   "outputs": [],
   "source": [
    "import json\n",
    "import ast\n",
    "\n",
    "file = './edited-data/uncategorized-encodedUTF8.txt'"
   ]
  },
  {
   "cell_type": "code",
   "execution_count": 2,
   "metadata": {},
   "outputs": [],
   "source": [
    "# File with short test data:\n",
    "#file = 'testData.json'\n",
    "\n",
    "# Limit operation to \"question\" part of data.\n",
    "qStartStr = '\"question\":\"'\n",
    "qEndStr = '\", \"answer\"'"
   ]
  },
  {
   "cell_type": "code",
   "execution_count": 3,
   "metadata": {},
   "outputs": [],
   "source": [
    "# Read file to string\n",
    "with open(file, mode='rb') as f:\n",
    "    data = f.read().decode(encoding='UTF-8', errors='replace')\n",
    "    #data = f.read()\n",
    "    #data = bytes(f.read(), \"utf-8\").decode(encoding='UTF-8', errors='ignore')\n",
    "    #data = bytes(f.read(), \"utf-8\").decode(\"unicode_escape\")"
   ]
  },
  {
   "cell_type": "code",
   "execution_count": 6,
   "metadata": {},
   "outputs": [
    {
     "name": "stdout",
     "output_type": "stream",
     "text": [
      "1000\n",
      "2000\n",
      "3000\n",
      "4000\n",
      "5000\n",
      "6000\n",
      "7000\n",
      "8000\n",
      "9000\n",
      "10000\n",
      "11000\n",
      "12000\n",
      "13000\n",
      "14000\n",
      "15000\n",
      "16000\n",
      "17000\n",
      "18000\n",
      "19000\n",
      "20000\n",
      "21000\n",
      "22000\n",
      "23000\n",
      "24000\n",
      "25000\n",
      "26000\n",
      "27000\n",
      "28000\n",
      "29000\n",
      "30000\n",
      "31000\n",
      "Wall time: 1.4 s\n"
     ]
    }
   ],
   "source": [
    "%%time\n",
    "\n",
    "# Handle each row in given data file.\n",
    "lineiterator = data.splitlines()\n",
    "i = 0\n",
    "i_dict = 0\n",
    "i_str = 0\n",
    "newData = []\n",
    "for row in lineiterator:\n",
    "    stringUsed = row\n",
    "    # Correcting for this problem: Issue here is that /\" and \" are both treated identically by the find method but only /\" works in JSON file.\n",
    "    #stringUsed = bytes(stringUsed, \"utf-8\").decode(\"unicode_escape\")\n",
    "    start = stringUsed.find(qStartStr) + len(qStartStr)\n",
    "    end = stringUsed.find(qEndStr)\n",
    "    \n",
    "    # Exclude bracket only lines.\n",
    "    if len(stringUsed) > 1:      \n",
    "        \n",
    "        # Replace double quote with single quote\n",
    "        stringCorrected = stringUsed[start:end].replace('\"', \"'\")\n",
    "        row = row[:start] + stringCorrected + row[end:]\n",
    "        \n",
    "        # Remove \\ character\n",
    "        stringUsed = row\n",
    "        start = stringUsed.find(qStartStr) + len(qStartStr)\n",
    "        end = stringUsed.find(qEndStr)\n",
    "        stringCorrected = stringUsed[start:end].replace(\"\\\\\", \"\")\n",
    "        row = row[:start] + stringCorrected + row[end:]\n",
    "    \n",
    "        # At this point, row should be turned into dict\n",
    "        addRow = row.strip()[:-1]\n",
    "        \n",
    "        try:\n",
    "            newData.append(json.loads(ast.literal_eval(addRow)))\n",
    "            i_dict += 1\n",
    "        except:\n",
    "            newData.append(addRow)\n",
    "            i_str += 1\n",
    "        \n",
    "       \n",
    "        i += 1\n",
    "        test = i/1000\n",
    "        if test.is_integer():\n",
    "            print(i)\n",
    "        \n",
    "\n",
    "with open(\"./edited-data/uncategorized-fixed.json\", \"w+\") as f:\n",
    "    f.write(json.dumps(newData))\n",
    "    \n",
    "print(\"i = \" + str(i) +\"\\n\" + \"i_dict = \" + str(i_dict) +\"\\n\" + \"i_str = \" + str(i_str))\n",
    "\n",
    "\n",
    "    \"\"\"\n",
    "    # Add handled row to file.\n",
    "    with open(\"./edited-data/uncategorized-fixed.txt\", \"ab+\") as f:\n",
    "        #row = row + '\\n'\n",
    "        rowEncoded = row.encode(encoding='UTF-8', errors = 'backslashreplace')\n",
    "        f.write(rowEncoded)\n",
    "        i += 1\n",
    "        test = i/1000\n",
    "        if test.is_integer():\n",
    "            print(i)\n",
    "    \"\"\""
   ]
  },
  {
   "cell_type": "code",
   "execution_count": 9,
   "metadata": {},
   "outputs": [
    {
     "name": "stdout",
     "output_type": "stream",
     "text": [
      "i = 31304\n",
      "i_dict = 0\n",
      "i_str = 31304\n"
     ]
    }
   ],
   "source": []
  },
  {
   "cell_type": "code",
   "execution_count": null,
   "metadata": {},
   "outputs": [],
   "source": [
    "print(newData[0])\n",
    "print(type(newData[0]))\n",
    "print(ast.literal_eval(newData[0]))\n",
    "print(type(ast.literal_eval(newData[0])))"
   ]
  },
  {
   "cell_type": "code",
   "execution_count": 13,
   "metadata": {},
   "outputs": [
    {
     "name": "stdout",
     "output_type": "stream",
     "text": [
      "{'category_id': 'UNCATEGORIZED', 'lang': 'en', 'tags': [], 'question': 'An “Anoctothorpe” Is Another Name For What Everyday Monetary Item?', 'answer': 0, 'answers': ['The Pound Sign £'], 'source': ''}\n",
      "<class 'dict'>\n",
      "{'category_id': 'UNCATEGORIZED', 'lang': 'en', 'tags': [], 'question': '_____ of Love by Frankie Lymon', 'answer': 0, 'answers': ['ABCs'], 'source': ''}\n",
      "<class 'dict'>\n"
     ]
    }
   ],
   "source": [
    "text = '{\"category_id\":\"UNCATEGORIZED\", \"lang\":\"en\", \"tags\":[], \"question\":\"An “Anoctothorpe” Is Another Name For What Everyday Monetary Item?\", \"answer\":0, \"answers\":[\"The Pound Sign £\"], \"source\":\"\"}'\n",
    "text2 = '{\"category_id\":\"UNCATEGORIZED\", \"lang\":\"en\", \"tags\":[], \"question\":\"_____ of Love by Frankie Lymon\", \"answer\":0, \"answers\":[\"ABCs\"], \"source\":\"\"}'\n",
    "\n",
    "print(json.loads(text))\n",
    "print(type(json.loads(text)))\n",
    "\n",
    "try:\n",
    "    print(json.loads(text2))\n",
    "    print(type(json.loads(text2)))\n",
    "except:\n",
    "    print(text2)\n",
    "    print(type(text2))\n",
    "#print(type(json.loads(text2)))\n"
   ]
  }
 ],
 "metadata": {
  "kernelspec": {
   "display_name": "Python 3",
   "language": "python",
   "name": "python3"
  },
  "language_info": {
   "codemirror_mode": {
    "name": "ipython",
    "version": 3
   },
   "file_extension": ".py",
   "mimetype": "text/x-python",
   "name": "python",
   "nbconvert_exporter": "python",
   "pygments_lexer": "ipython3",
   "version": "3.8.2"
  }
 },
 "nbformat": 4,
 "nbformat_minor": 4
}
