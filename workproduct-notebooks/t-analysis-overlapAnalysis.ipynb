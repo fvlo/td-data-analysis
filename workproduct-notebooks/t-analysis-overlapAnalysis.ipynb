{
 "cells": [
  {
   "cell_type": "markdown",
   "metadata": {},
   "source": [
    "# Setup"
   ]
  },
  {
   "cell_type": "code",
   "execution_count": 1,
   "metadata": {},
   "outputs": [],
   "source": [
    "import pandas as pd\n",
    "import numpy as np\n",
    "import json\n",
    "import matplotlib.pyplot as plt\n",
    "import os\n",
    "\n",
    "pd.set_option('display.max_rows', 500)\n",
    "pd.set_option('display.max_columns', 500)\n",
    "pd.set_option('display.max_colwidth', 1000)\n",
    "\n",
    "fig_size = plt.rcParams[\"figure.figsize\"]\n",
    "fig_size[0] = 12\n",
    "fig_size[1] = 5\n",
    "plt.rcParams[\"figure.figsize\"] = fig_size"
   ]
  },
  {
   "cell_type": "markdown",
   "metadata": {},
   "source": [
    "# Overlap analysis"
   ]
  },
  {
   "cell_type": "code",
   "execution_count": 2,
   "metadata": {},
   "outputs": [],
   "source": [
    "# Add duplicate visualization if necessary (cross tabulating data sets)"
   ]
  },
  {
   "cell_type": "markdown",
   "metadata": {},
   "source": [
    "## String similarity"
   ]
  },
  {
   "cell_type": "markdown",
   "metadata": {},
   "source": [
    "### Functions and function calls to run 'from Levenshtein import ratio as stringSimilarity' calculations"
   ]
  },
  {
   "cell_type": "markdown",
   "metadata": {},
   "source": [
    "### Analyses of similarity data"
   ]
  },
  {
   "cell_type": "code",
   "execution_count": 3,
   "metadata": {},
   "outputs": [],
   "source": [
    "# TODO\n",
    "\n",
    "# AllQuestions index to masterID map should be imported and saved in t-analysis-similarityMatrix.ipynb, then impoted here. Not combined in master file where processing happens"
   ]
  },
  {
   "cell_type": "code",
   "execution_count": 4,
   "metadata": {},
   "outputs": [
    {
     "name": "stdout",
     "output_type": "stream",
     "text": [
      "Wall time: 23.9 ms\n"
     ]
    }
   ],
   "source": [
    "%%time\n",
    "similToPlot = pd.DataFrame()\n",
    "location = '../workproduct-files/similarityMatrix/partialDataFrames/'\n",
    "for file in sorted(os.listdir(location)):\n",
    "    similToPlot = similToPlot.append(pd.read_pickle(location + file))\n",
    "similToPlot.drop('q', axis = 1, inplace = True)"
   ]
  },
  {
   "cell_type": "code",
   "execution_count": 5,
   "metadata": {},
   "outputs": [
    {
     "name": "stdout",
     "output_type": "stream",
     "text": [
      "100\n",
      "100\n",
      "[0 1 2 3 4 5 6 7 8 9 10 11 12 13 14 15 16 17 18 19 20 21 22 23 24 25 26 27\n",
      " 28 29 30 31 32 33 34 35 36 37 38 39 40 41 42 43 44 45 46 47 48 49 50 51\n",
      " 52 53 54 55 56 57 58 59 60 61 62 63 64 65 66 67 68 69 70 71 72 73 74 75\n",
      " 76 77 78 79 80 81 82 83 84 85 86 87 88 89 90 91 92 93 94 95 96 97 98 99]\n"
     ]
    }
   ],
   "source": [
    "print(len(similToPlot))\n",
    "print(len(similToPlot.columns.values))\n",
    "print(similToPlot.columns.values)"
   ]
  },
  {
   "cell_type": "code",
   "execution_count": 6,
   "metadata": {},
   "outputs": [
    {
     "name": "stdout",
     "output_type": "stream",
     "text": [
      "Wall time: 9.97 ms\n"
     ]
    }
   ],
   "source": [
    "%%time\n",
    "melt = similToPlot.reset_index()\n",
    "melt = melt.melt(id_vars = ['index'] )\n",
    "melt.rename(columns = {'index' : 'i', 'variable' : 'j', 'value' : 'similarityRatio'}, inplace = True)\n",
    "melt = melt[['i', 'j', 'similarityRatio']]"
   ]
  },
  {
   "cell_type": "code",
   "execution_count": 7,
   "metadata": {},
   "outputs": [
    {
     "name": "stdout",
     "output_type": "stream",
     "text": [
      "Wall time: 4.96 ms\n"
     ]
    }
   ],
   "source": [
    "%%time\n",
    "dropI = melt.loc[melt['i'] <= melt['j']].index\n",
    "melt.drop(dropI, inplace = True)\n",
    "melt.reset_index(drop = True, inplace = True)"
   ]
  },
  {
   "cell_type": "code",
   "execution_count": 8,
   "metadata": {},
   "outputs": [
    {
     "name": "stdout",
     "output_type": "stream",
     "text": [
      "4950\n",
      "3\n",
      "['i' 'j' 'similarityRatio']\n"
     ]
    }
   ],
   "source": [
    "print(len(melt))\n",
    "print(len(melt.columns.values))\n",
    "print(melt.columns.values)"
   ]
  },
  {
   "cell_type": "code",
   "execution_count": 9,
   "metadata": {},
   "outputs": [
    {
     "name": "stdout",
     "output_type": "stream",
     "text": [
      "count    4950.000000\n",
      "mean        0.345131\n",
      "std         0.068977\n",
      "min         0.116838\n",
      "25%         0.304147\n",
      "50%         0.350812\n",
      "75%         0.389656\n",
      "max         0.729730\n",
      "Name: similarityRatio, dtype: float64\n",
      "Wall time: 5.98 ms\n"
     ]
    }
   ],
   "source": [
    "%time print(melt['similarityRatio'].describe())"
   ]
  },
  {
   "cell_type": "code",
   "execution_count": 10,
   "metadata": {},
   "outputs": [
    {
     "name": "stdout",
     "output_type": "stream",
     "text": [
      "Wall time: 12 ms\n"
     ]
    }
   ],
   "source": [
    "%%time\n",
    "bins = pd.cut(melt['similarityRatio'], bins = np.linspace(0, 1, 101))\n",
    "binsToPlot = bins.value_counts().sort_index()"
   ]
  },
  {
   "cell_type": "code",
   "execution_count": 11,
   "metadata": {},
   "outputs": [
    {
     "data": {
      "text/plain": [
       "<matplotlib.axes._subplots.AxesSubplot at 0x235c0e26070>"
      ]
     },
     "execution_count": 11,
     "metadata": {},
     "output_type": "execute_result"
    },
    {
     "data": {
      "image/png": "[encoded data removed]",
      "text/plain": [
       "<Figure size 864x360 with 1 Axes>"
      ]
     },
     "metadata": {
      "needs_background": "light"
     },
     "output_type": "display_data"
    }
   ],
   "source": [
    "binsToPlot.plot.bar()"
   ]
  },
  {
   "cell_type": "code",
   "execution_count": 12,
   "metadata": {},
   "outputs": [
    {
     "name": "stdout",
     "output_type": "stream",
     "text": [
      "(0.7, 0.71]     0\n",
      "(0.71, 0.72]    0\n",
      "(0.72, 0.73]    1\n",
      "(0.73, 0.74]    0\n",
      "(0.74, 0.75]    0\n",
      "(0.75, 0.76]    0\n",
      "(0.76, 0.77]    0\n",
      "(0.77, 0.78]    0\n",
      "(0.78, 0.79]    0\n",
      "(0.79, 0.8]     0\n",
      "(0.8, 0.81]     0\n",
      "(0.81, 0.82]    0\n",
      "(0.82, 0.83]    0\n",
      "(0.83, 0.84]    0\n",
      "(0.84, 0.85]    0\n",
      "(0.85, 0.86]    0\n",
      "(0.86, 0.87]    0\n",
      "(0.87, 0.88]    0\n",
      "(0.88, 0.89]    0\n",
      "(0.89, 0.9]     0\n",
      "(0.9, 0.91]     0\n",
      "(0.91, 0.92]    0\n",
      "(0.92, 0.93]    0\n",
      "(0.93, 0.94]    0\n",
      "(0.94, 0.95]    0\n",
      "(0.95, 0.96]    0\n",
      "(0.96, 0.97]    0\n",
      "(0.97, 0.98]    0\n",
      "(0.98, 0.99]    0\n",
      "(0.99, 1.0]     0\n",
      "Name: similarityRatio, dtype: int64\n"
     ]
    },
    {
     "data": {
      "image/png": "[encoded data removed]",
      "text/plain": [
       "<Figure size 864x360 with 1 Axes>"
      ]
     },
     "metadata": {
      "needs_background": "light"
     },
     "output_type": "display_data"
    }
   ],
   "source": [
    "binsToPlot[-30:].plot.bar()\n",
    "print(binsToPlot[-30:])"
   ]
  },
  {
   "cell_type": "code",
   "execution_count": 13,
   "metadata": {},
   "outputs": [
    {
     "name": "stdout",
     "output_type": "stream",
     "text": [
      "Wall time: 1.32 ms\n"
     ]
    }
   ],
   "source": [
    "%%time\n",
    "meltSorted = melt.sort_values('similarityRatio', ascending = False)"
   ]
  },
  {
   "cell_type": "code",
   "execution_count": 14,
   "metadata": {},
   "outputs": [
    {
     "name": "stdout",
     "output_type": "stream",
     "text": [
      "       i   j  similarityRatio\n",
      "4740  80  79         0.729730\n",
      "4914  92  91         0.682171\n",
      "4884  89  88         0.666667\n",
      "4924  95  92         0.666667\n",
      "4935  95  94         0.648649\n",
      "305   15   3         0.643478\n",
      "4917  95  91         0.638655\n",
      "4422  68  67         0.630542\n",
      "4930  95  93         0.628571\n",
      "4783  86  81         0.623853\n",
      "4929  94  93         0.617978\n",
      "4816  86  83         0.611765\n",
      "1391  27  15         0.610526\n",
      "4390  68  66         0.609929\n",
      "4922  93  92         0.600000\n",
      "4389  67  66         0.593607\n",
      "765   10   8         0.588957\n",
      "4923  94  92         0.582278\n",
      "4915  93  91         0.563758\n",
      "955   21  10         0.551515\n",
      "4800  86  82         0.548673\n",
      "487    8   5         0.548571\n",
      "4779  82  81         0.543860\n",
      "4916  94  91         0.535032\n",
      "4780  83  81         0.534884\n",
      "2117  42  24         0.532423\n",
      "855   10   9         0.532374\n",
      "878   33   9         0.530769\n",
      "2747  42  33         0.528736\n",
      "2470  35  29         0.525140\n",
      "2410  45  28         0.524887\n",
      "512   33   5         0.524390\n",
      "500   21   5         0.519774\n",
      "2113  38  24         0.519637\n",
      "1947  23  22         0.519337\n",
      "2025  25  23         0.517799\n",
      "1793  24  20         0.515337\n",
      "788   33   8         0.512987\n",
      "685   21   7         0.512129\n",
      "606   34   6         0.511785\n",
      "4797  83  82         0.511111\n",
      "1814  45  20         0.510949\n",
      "1491  44  16         0.509485\n",
      "1048  26  11         0.508621\n",
      "486    7   5         0.506460\n",
      "1790  21  20         0.506250\n",
      "503   24   5         0.505556\n",
      "4814  84  83         0.505495\n",
      "3894  79  53         0.504348\n",
      "1948  24  22         0.504021\n",
      "2739  34  33         0.503106\n",
      "776   21   8         0.502994\n",
      "2549  45  30         0.501873\n",
      "871   26   9         0.501608\n",
      "2100  25  24         0.500000\n",
      "4024  77  56         0.500000\n",
      "4815  85  83         0.500000\n",
      "1396  32  15         0.500000\n",
      "488    9   5         0.496689\n",
      "672    8   7         0.495913\n",
      "593   21   6         0.494774\n",
      "1884  37  21         0.494444\n",
      "4723  83  78         0.494382\n",
      "795   40   8         0.494279\n",
      "3125  45  39         0.494118\n",
      "967   33  10         0.493421\n",
      "4801  87  82         0.491803\n",
      "4831  86  84         0.491228\n",
      "4900  95  89         0.490909\n",
      "1811  42  20         0.490706\n",
      "2322  28  27         0.489796\n",
      "2195  46  25         0.489796\n",
      "3062  42  38         0.489051\n",
      "673    9   7         0.489028\n",
      "4901  96  89         0.488189\n",
      "698   34   7         0.488189\n",
      "1889  42  21         0.487805\n",
      "4798  84  82         0.487395\n",
      "1880  33  21         0.487179\n",
      "2026  26  23         0.486034\n",
      "4762  83  80         0.484848\n",
      "2326  32  27         0.484211\n",
      "866   21   9         0.482517\n",
      "403   18   4         0.482456\n",
      "764    9   8         0.482270\n",
      "4726  86  78         0.482143\n",
      "1807  38  20         0.482085\n",
      "697   33   7         0.481159\n",
      "4782  85  81         0.480769\n",
      "4627  77  74         0.480769\n",
      "1567  38  17         0.480211\n",
      "4234  87  61         0.480000\n",
      "2539  35  30         0.480000\n",
      "2905  71  35         0.479592\n",
      "490   11   5         0.479121\n",
      "504   25   5         0.478788\n",
      "1645  35  18         0.478632\n",
      "513   34   5         0.478022\n",
      "4721  81  78         0.477876\n",
      "2101  26  24         0.476965\n"
     ]
    }
   ],
   "source": [
    "print(meltSorted.head(100))"
   ]
  }
 ],
 "metadata": {
  "kernelspec": {
   "display_name": "Python 3",
   "language": "python",
   "name": "python3"
  },
  "language_info": {
   "codemirror_mode": {
    "name": "ipython",
    "version": 3
   },
   "file_extension": ".py",
   "mimetype": "text/x-python",
   "name": "python",
   "nbconvert_exporter": "python",
   "pygments_lexer": "ipython3",
   "version": "3.8.2"
  }
 },
 "nbformat": 4,
 "nbformat_minor": 4
}
