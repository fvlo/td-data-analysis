{
 "cells": [
  {
   "cell_type": "code",
   "execution_count": null,
   "metadata": {},
   "outputs": [],
   "source": [
    "import re\n",
    "import pandas as pd\n",
    "import json\n",
    "\n",
    "file = './raw-data/Open-trivia-database-master/Open-trivia-database-master/en/todo/uncategorized.json'"
   ]
  },
  {
   "cell_type": "code",
   "execution_count": null,
   "metadata": {},
   "outputs": [],
   "source": []
  },
  {
   "cell_type": "code",
   "execution_count": null,
   "metadata": {},
   "outputs": [],
   "source": [
    "testRowOK = '{\"category_id\":\"UNCATEGORIZED\", \"lang\":\"en\", \"tags\":[], \"question\":\"A person who starts fires maliciously is a(n) _________.\", \"answer\":0, \"answers\":[\"Arsonist\"], \"source\":\"\"},'\n",
    "testRowOK2 = '{\"category_id\":\"UNCATEGORIZED\", \"lang\":\"en\", \"tags\":[], \"question\":\"An \\\"omniscient\\\" person has unlimited __________.\", \"answer\":0, \"answers\":[\"Knowledge\"], \"source\":\"\"},'\n",
    "testRowError = '{\"category_id\":\"UNCATEGORIZED\", \"lang\":\"en\", \"tags\":[], \"question\":\"The word \"cumulus\" refers to a type of ___________.\"\", \"answer\":0, \"answers\":[\"Cloud\"], \"source\":\"\"},'\n",
    "\n",
    "print(testRowOK2)\n",
    "print(repr(testRowOK2))\n",
    "# Does not work"
   ]
  },
  {
   "cell_type": "code",
   "execution_count": null,
   "metadata": {},
   "outputs": [],
   "source": [
    "qStartStr = '\"question\":\"'\n",
    "qEndStr = '\", \"answer\"'"
   ]
  },
  {
   "cell_type": "code",
   "execution_count": null,
   "metadata": {},
   "outputs": [],
   "source": [
    "stringUsed = testRowOK2\n",
    "\n",
    "start = stringUsed.find(qStartStr) + len(qStartStr)\n",
    "end = stringUsed.find(qEndStr)\n",
    "\n",
    "stringUsed = stringUsed[start:end]"
   ]
  },
  {
   "cell_type": "code",
   "execution_count": null,
   "metadata": {},
   "outputs": [],
   "source": [
    "stringCorrected = stringUsed.replace('\"\"', '\\\"')\n",
    "print('stringUsed: ' + stringUsed + '\\n' + 'stringCorrected: ' + stringCorrected)"
   ]
  },
  {
   "cell_type": "code",
   "execution_count": null,
   "metadata": {},
   "outputs": [],
   "source": [
    "f = open(\"corrected.json\", \"w+\")\n",
    "f.write('stringUsed: ' + stringUsed + '\\n' + 'stringCorrected: ' + stringCorrected)\n",
    "f.close()"
   ]
  },
  {
   "cell_type": "markdown",
   "metadata": {},
   "source": [
    "### Loop:"
   ]
  },
  {
   "cell_type": "code",
   "execution_count": 1,
   "metadata": {},
   "outputs": [],
   "source": [
    "file = 'testData.json'\n",
    "\n",
    "# Limit operation to \"question\" part of data.\n",
    "qStartStr = '\"question\":\"'\n",
    "qEndStr = '\", \"answer\"'"
   ]
  },
  {
   "cell_type": "code",
   "execution_count": 9,
   "metadata": {},
   "outputs": [
    {
     "name": "stdout",
     "output_type": "stream",
     "text": [
      "[\n",
      "    {\"category_id\":\"UNCATEGORIZED\", \"lang\":\"en\", \"tags\":[], \"question\":\"_____ of Love' by Frankie Lymon\", \"answer\":0, \"answers\":[\"ABC's\"], \"source\":\"\"},\n",
      "    {\"category_id\":\"UNCATEGORIZED\", \"lang\":\"en\", \"tags\":[], \"question\":\"A clip, shaped like a bar to keep a woman's hair in place is a _______.\", \"answer\":0, \"answers\":[\"Barrette\"], \"source\":\"\"},\n",
      "    {\"category_id\":\"UNCATEGORIZED\", \"lang\":\"en\", \"tags\":[], \"question\":\"A depilatory is a substance used for removing _______.\", \"answer\":0, \"answers\":[\"Hair\"], \"source\":\"\"},\n",
      "    {\"category_id\":\"UNCATEGORIZED\", \"lang\":\"en\", \"tags\":[], \"question\":\"An \\\"omniscient\\\" person has unlimited __________.\", \"answer\":0, \"answers\":[\"Knowledge\"], \"source\":\"\"},\n",
      "    {\"category_id\":\"UNCATEGORIZED\", \"lang\":\"en\", \"tags\":[], \"question\":\"The word \"cumulus\" refers to a type of ___________.\"\", \"answer\":0, \"answers\":[\"Cloud\"], \"source\":\"\"},\n",
      "    {\"category_id\":\"UNCATEGORIZED\", \"lang\":\"en\", \"tags\":[], \"question\":\"Zymurgy is a branch of chemistry concerning what process\", \"answer\":0, \"answers\":[\"Brewing fermentation\"], \"source\":\"\"}\n",
      "]\n"
     ]
    }
   ],
   "source": [
    "with open(file) as f:\n",
    "    data = f.read()\n",
    "print(data)"
   ]
  },
  {
   "cell_type": "code",
   "execution_count": 16,
   "metadata": {},
   "outputs": [
    {
     "name": "stdout",
     "output_type": "stream",
     "text": [
      "[\n",
      "81\n",
      "    {\"category_id\":\"UNCATEGORIZED\", \"lang\":\"en\", \"tags\":[], \"question\":\"_____ of Love' by Frankie Lymon\", \"answer\":0, \"answers\":[\"ABC's\"], \"source\":\"\"},\n",
      "-1\n",
      "    {\"category_id\":\"UNCATEGORIZED\", \"lang\":\"en\", \"tags\":[], \"question\":\"A clip, shaped like a bar to keep a woman's hair in place is a _______.\", \"answer\":0, \"answers\":[\"Barrette\"], \"source\":\"\"},\n",
      "-1\n",
      "    {\"category_id\":\"UNCATEGORIZED\", \"lang\":\"en\", \"tags\":[], \"question\":\"A depilatory is a substance used for removing _______.\", \"answer\":0, \"answers\":[\"Hair\"], \"source\":\"\"},\n",
      "-1\n",
      "    {\"category_id\":\"UNCATEGORIZED\", \"lang\":\"en\", \"tags\":[], \"question\":\"An \\\"omniscient\\\" person has unlimited __________.\", \"answer\":0, \"answers\":[\"Knowledge\"], \"source\":\"\"},\n",
      "-1\n",
      "    {\"category_id\":\"UNCATEGORIZED\", \"lang\":\"en\", \"tags\":[], \"question\":\"The word \"cumulus\" refers to a type of ___________.\"\", \"answer\":0, \"answers\":[\"Cloud\"], \"source\":\"\"},\n",
      "-1\n",
      "    {\"category_id\":\"UNCATEGORIZED\", \"lang\":\"en\", \"tags\":[], \"question\":\"Zymurgy is a branch of chemistry concerning what process\", \"answer\":0, \"answers\":[\"Brewing fermentation\"], \"source\":\"\"}\n",
      "]\n"
     ]
    }
   ],
   "source": [
    "\n",
    "# Handle each row in given data file.\n",
    "lineiterator = data.splitlines()\n",
    "for row in lineiterator:\n",
    "    stringUsed = row\n",
    "    \n",
    "    # Exclude bracket only lines.\n",
    "    if len(stringUsed) > 1:\n",
    "        \n",
    "        # Exclude lines with escaped double brackets.\n",
    "        print(stringUsed.find('Love'))\n",
    "        if stringUsed.find('\\\"') == -1:\n",
    "            print(hep)\n",
    "            start = stringUsed.find(qStartStr) + len(qStartStr)\n",
    "            end = stringUsed.find(qEndStr)\n",
    "            stringCorrected = stringUsed[start:end].replace('\"', \"'\")\n",
    "            row = row[:start] + stringCorrected + row[end:]\n",
    "    \n",
    "    # Add handled row to file.\n",
    "    with open(\"fixedData.json\", \"a+\") as f:\n",
    "        print(row)\n",
    "        #f.write(row + '\\n')"
   ]
  },
  {
   "cell_type": "markdown",
   "metadata": {},
   "source": [
    "Test:"
   ]
  },
  {
   "cell_type": "markdown",
   "metadata": {},
   "source": [
    "stringUsed = testRowOK2\n",
    "start = stringUsed.find(qStartStr) + len(qStartStr)\n",
    "end = stringUsed.find(qEndStr)\n",
    "#stringCorrected = stringUsed[start:end].replace('\"\"', '\\\"')\n",
    "stringCorrected = stringUsed[start:end].replace('\"', '\\\"')\n",
    "stringUsed = stringUsed[:start] + stringCorrected + stringUsed[end:]\n",
    "print(stringUsed)"
   ]
  },
  {
   "cell_type": "markdown",
   "metadata": {},
   "source": [
    "lineiterator = data.splitlines()\n",
    "for row in lineiterator:\n",
    "    print('b: ' + row)\n",
    "    stringUsed = row\n",
    "    if len(stringUsed) > 1:\n",
    "        start = stringUsed.find(qStartStr) + len(qStartStr)\n",
    "        end = stringUsed.find(qEndStr)\n",
    "        stringCorrected = stringUsed[start:end].replace('\"', '\\\"')\n",
    "        row = row[:start] + stringCorrected + row[end:]\n",
    "    print('a: ' + row)"
   ]
  }
 ],
 "metadata": {
  "kernelspec": {
   "display_name": "Python 3",
   "language": "python",
   "name": "python3"
  },
  "language_info": {
   "codemirror_mode": {
    "name": "ipython",
    "version": 3
   },
   "file_extension": ".py",
   "mimetype": "text/x-python",
   "name": "python",
   "nbconvert_exporter": "python",
   "pygments_lexer": "ipython3",
   "version": "3.8.2"
  }
 },
 "nbformat": 4,
 "nbformat_minor": 4
}
