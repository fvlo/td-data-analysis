{
 "cells": [
  {
   "cell_type": "code",
   "execution_count": 4,
   "metadata": {},
   "outputs": [],
   "source": [
    "file = './raw-data/Open-trivia-database-master/Open-trivia-database-master/en/todo/uncategorized.json'"
   ]
  },
  {
   "cell_type": "code",
   "execution_count": 5,
   "metadata": {},
   "outputs": [],
   "source": [
    "# File with short test data:\n",
    "#file = 'testData.json'\n",
    "\n",
    "# Limit operation to \"question\" part of data.\n",
    "qStartStr = '\"question\":\"'\n",
    "qEndStr = '\", \"answer\"'"
   ]
  },
  {
   "cell_type": "code",
   "execution_count": 6,
   "metadata": {},
   "outputs": [],
   "source": [
    "# Read file to string\n",
    "with open(file, encoding=\"utf8\") as f:\n",
    "    data = f.read()\n",
    "    #data = bytes(f.read(), \"utf-8\").decode(encoding='UTF-8', errors='ignore')\n",
    "    #data = bytes(f.read(), \"utf-8\").decode(\"unicode_escape\")"
   ]
  },
  {
   "cell_type": "code",
   "execution_count": 7,
   "metadata": {},
   "outputs": [
    {
     "name": "stdout",
     "output_type": "stream",
     "text": [
      "1000\n",
      "2000\n",
      "3000\n"
     ]
    },
    {
     "ename": "KeyboardInterrupt",
     "evalue": "",
     "output_type": "error",
     "traceback": [
      "\u001b[1;31m---------------------------------------------------------------------------\u001b[0m",
      "\u001b[1;31mKeyboardInterrupt\u001b[0m                         Traceback (most recent call last)",
      "\u001b[1;32m<timed exec>\u001b[0m in \u001b[0;36m<module>\u001b[1;34m\u001b[0m\n",
      "\u001b[1;32m~\\miniconda3\\envs\\data-analysis\\lib\\_bootlocale.py\u001b[0m in \u001b[0;36mgetpreferredencoding\u001b[1;34m(do_setlocale)\u001b[0m\n\u001b[0;32m      9\u001b[0m \u001b[1;33m\u001b[0m\u001b[0m\n\u001b[0;32m     10\u001b[0m \u001b[1;32mif\u001b[0m \u001b[0msys\u001b[0m\u001b[1;33m.\u001b[0m\u001b[0mplatform\u001b[0m\u001b[1;33m.\u001b[0m\u001b[0mstartswith\u001b[0m\u001b[1;33m(\u001b[0m\u001b[1;34m\"win\"\u001b[0m\u001b[1;33m)\u001b[0m\u001b[1;33m:\u001b[0m\u001b[1;33m\u001b[0m\u001b[1;33m\u001b[0m\u001b[0m\n\u001b[1;32m---> 11\u001b[1;33m     \u001b[1;32mdef\u001b[0m \u001b[0mgetpreferredencoding\u001b[0m\u001b[1;33m(\u001b[0m\u001b[0mdo_setlocale\u001b[0m\u001b[1;33m=\u001b[0m\u001b[1;32mTrue\u001b[0m\u001b[1;33m)\u001b[0m\u001b[1;33m:\u001b[0m\u001b[1;33m\u001b[0m\u001b[1;33m\u001b[0m\u001b[0m\n\u001b[0m\u001b[0;32m     12\u001b[0m         \u001b[1;32mif\u001b[0m \u001b[0msys\u001b[0m\u001b[1;33m.\u001b[0m\u001b[0mflags\u001b[0m\u001b[1;33m.\u001b[0m\u001b[0mutf8_mode\u001b[0m\u001b[1;33m:\u001b[0m\u001b[1;33m\u001b[0m\u001b[1;33m\u001b[0m\u001b[0m\n\u001b[0;32m     13\u001b[0m             \u001b[1;32mreturn\u001b[0m \u001b[1;34m'UTF-8'\u001b[0m\u001b[1;33m\u001b[0m\u001b[1;33m\u001b[0m\u001b[0m\n",
      "\u001b[1;31mKeyboardInterrupt\u001b[0m: "
     ]
    }
   ],
   "source": [
    "%%time\n",
    "\n",
    "# Handle each row in given data file.\n",
    "lineiterator = data.splitlines()\n",
    "i = 0\n",
    "for row in lineiterator:\n",
    "    stringUsed = row\n",
    "    # Correcting for this problem: Issue here is that /\" and \" are both treated identically by the find method but only /\" works in JSON file.\n",
    "    #stringUsed = bytes(stringUsed, \"utf-8\").decode(\"unicode_escape\")\n",
    "    start = stringUsed.find(qStartStr) + len(qStartStr)\n",
    "    end = stringUsed.find(qEndStr)\n",
    "    \n",
    "    # Exclude bracket only lines.\n",
    "    if len(stringUsed) > 1:      \n",
    "        \n",
    "        # Replace double quote with single quote\n",
    "        stringCorrected = stringUsed[start:end].replace('\\\"', \"'\")\n",
    "        row = row[:start] + stringCorrected + row[end:]\n",
    "        \n",
    "        # Replace escaped single quote with single quote\n",
    "        stringUsed = row\n",
    "        start = stringUsed.find(qStartStr) + len(qStartStr)\n",
    "        end = stringUsed.find(qEndStr)\n",
    "        stringCorrected = stringUsed[start:end].replace(\"'\\'\", \"\")\n",
    "        row = row[:start] + stringCorrected + row[end:]\n",
    "    \n",
    "    # Add handled row to file.\n",
    "    with open(\"uncategorized-fixed.json\", \"a+\") as f:\n",
    "        f.write(row + '\\n')\n",
    "        i += 1\n",
    "        test = i/1000\n",
    "        if test.is_integer():\n",
    "            print(i)"
   ]
  },
  {
   "cell_type": "code",
   "execution_count": 8,
   "metadata": {},
   "outputs": [],
   "source": [
    "#print(i)"
   ]
  }
 ],
 "metadata": {
  "kernelspec": {
   "display_name": "Python 3",
   "language": "python",
   "name": "python3"
  },
  "language_info": {
   "codemirror_mode": {
    "name": "ipython",
    "version": 3
   },
   "file_extension": ".py",
   "mimetype": "text/x-python",
   "name": "python",
   "nbconvert_exporter": "python",
   "pygments_lexer": "ipython3",
   "version": "3.8.2"
  }
 },
 "nbformat": 4,
 "nbformat_minor": 4
}
