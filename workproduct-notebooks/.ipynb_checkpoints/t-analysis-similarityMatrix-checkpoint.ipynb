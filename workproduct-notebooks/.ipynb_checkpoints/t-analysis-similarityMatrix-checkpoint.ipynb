{
 "cells": [
  {
   "cell_type": "markdown",
   "metadata": {},
   "source": [
    "# Setup"
   ]
  },
  {
   "cell_type": "code",
   "execution_count": null,
   "metadata": {},
   "outputs": [],
   "source": [
    "import pandas as pd\n",
    "import numpy as np\n",
    "import json\n",
    "import matplotlib.pyplot as plt\n",
    "from Levenshtein import ratio as stringSimilarity\n",
    "import string\n",
    "import os\n",
    "\n",
    "pd.set_option('display.max_rows', 500)\n",
    "pd.set_option('display.max_columns', 500)\n",
    "pd.set_option('display.max_colwidth', 1000)\n",
    "\n",
    "fig_size = plt.rcParams[\"figure.figsize\"]\n",
    "fig_size[0] = 12\n",
    "fig_size[1] = 5\n",
    "plt.rcParams[\"figure.figsize\"] = fig_size\n",
    "\n",
    "pd.set_option('display.max_rows', 500)\n",
    "pd.set_option('display.max_columns', 500)\n",
    "pd.set_option('display.max_colwidth', 1000)\n"
   ]
  },
  {
   "cell_type": "code",
   "execution_count": null,
   "metadata": {},
   "outputs": [],
   "source": [
    "# Import master data file\n",
    "\n",
    "t_data = pd.read_pickle('../workproduct-files/cleaned-dataframes/t_dataMaster.pkl')"
   ]
  },
  {
   "cell_type": "markdown",
   "metadata": {},
   "source": [
    "# Overlap analysis"
   ]
  },
  {
   "cell_type": "markdown",
   "metadata": {},
   "source": [
    "## String similarity"
   ]
  },
  {
   "cell_type": "markdown",
   "metadata": {},
   "source": [
    "### Functions and function calls to run 'from Levenshtein import ratio as stringSimilarity' calculations"
   ]
  },
  {
   "cell_type": "code",
   "execution_count": null,
   "metadata": {},
   "outputs": [],
   "source": [
    "# calculates similarity between single string y and list of strings in x\n",
    "def similFunc(x, y):\n",
    "    ret = []\n",
    "    ret = x.apply(lambda x: stringSimilarity(x.lower(), y.lower()))\n",
    "    \n",
    "    # Removes all values in ret that are smaller than a cutoff (=0.7, mean lies around 0.4)\n",
    "    toNaN = ret.apply(lambda x: x < 0.8)\n",
    "    ret[toNaN] = np.nan\n",
    "    \n",
    "    ret = ret.tolist()\n",
    "    return ret"
   ]
  },
  {
   "cell_type": "code",
   "execution_count": null,
   "metadata": {},
   "outputs": [],
   "source": [
    "def compareStrings(d, parts):\n",
    "    \n",
    "    # 1. input is data (d) Series and nr to split it into (parts)\n",
    "    # 2. while i <  parts:\n",
    "    #         run the similFunc on rows / parts and d\n",
    "    \n",
    "    for i in range(0, parts):\n",
    "        \n",
    "        startInd = int(np.floor(len(d) / parts) * i)\n",
    "        \n",
    "        if i == parts - 1:\n",
    "            endInd = None\n",
    "        else:\n",
    "            endInd = int(np.floor(len(d) / parts) * (i + 1))\n",
    "        \n",
    "        qSimil = pd.DataFrame(columns = ['q'])\n",
    "        qSimil['q'] = d[startInd:endInd]\n",
    "        \n",
    "        asLists = qSimil['q'].apply(lambda x: similFunc(d, x) )\n",
    "\n",
    "        # Creates matrix (n*n)\n",
    "        calcs = asLists.apply(pd.Series)\n",
    "        qSimil = pd.concat([qSimil[:], calcs[:]], axis = 1)\n",
    "        \n",
    "        # Drops question columns\n",
    "        qSimil.drop('q', axis = 1, inplace = True)\n",
    "        \n",
    "        # Performs melt\n",
    "        melt = qSimil.reset_index()\n",
    "        melt = melt.melt(id_vars = ['index'] )\n",
    "        melt.rename(columns = {'index' : 'i', 'variable' : 'j', 'value' : 'similarityRatio'}, inplace = True)\n",
    "        \n",
    "        # Drops NaN's\n",
    "        melt = melt.dropna()\n",
    "        \n",
    "        # Drops redundant i,j combinations\n",
    "        dropI = melt.loc[melt['i'] <= melt['j']].index\n",
    "        melt.drop(dropI, inplace = True)\n",
    "        melt.reset_index(drop = True, inplace = True)\n",
    "        \n",
    "        #Save part to pickle\n",
    "        fileI = str(i+1)\n",
    "        if len(fileI) < len(str(parts)):\n",
    "            pre = '0' * (len(str(parts)) - len(fileI))\n",
    "            fileI = pre + fileI\n",
    "\n",
    "        #print(melt)\n",
    "        melt.to_pickle('../workproduct-files/similarityMatrix/partialDataFrames/similarityM-' + str(fileI) + 'of' + str(parts) + '.pkl')\n",
    "        print(str(fileI) + ' of ' + str(parts))\n",
    "    "
   ]
  },
  {
   "cell_type": "code",
   "execution_count": null,
   "metadata": {},
   "outputs": [],
   "source": [
    "# Removes all punctuation characters and whitespaces from string\n",
    "def removeStringFormatting(x):\n",
    "    x2 = string.punctuation + ' '\n",
    "    for c in x2:\n",
    "        x = x.replace(c, '')\n",
    "    return x.lower()"
   ]
  },
  {
   "cell_type": "code",
   "execution_count": null,
   "metadata": {},
   "outputs": [],
   "source": [
    "# set allQuestions from master data and save 'CONS_id' to index mapping table\n",
    "\n",
    "allQuestions = t_data['CONS_question']\n",
    "IDtoIndex = t_data['CONS_id'].reset_index()"
   ]
  },
  {
   "cell_type": "code",
   "execution_count": null,
   "metadata": {},
   "outputs": [],
   "source": [
    "%time similData = allQuestions.apply(lambda x: removeStringFormatting(x))"
   ]
  },
  {
   "cell_type": "code",
   "execution_count": null,
   "metadata": {},
   "outputs": [],
   "source": [
    "partsToSplit = 1000\n",
    "\n",
    "%time compareStrings(similData, partsToSplit)\n",
    "\n",
    "IDtoIndex.to_pickle('../workproduct-files/similarityMatrix/IDtoIndex.pkl')"
   ]
  },
  {
   "cell_type": "markdown",
   "metadata": {},
   "source": [
    "## Creating consolidated similarity matrix and adding IDs and questions"
   ]
  },
  {
   "cell_type": "code",
   "execution_count": null,
   "metadata": {},
   "outputs": [],
   "source": [
    "%%time\n",
    "similToPlot = pd.DataFrame()\n",
    "location = '../workproduct-files/similarityMatrix/partialDataFrames/'\n",
    "for file in sorted(os.listdir(location)):\n",
    "    similToPlot = similToPlot.append(pd.read_pickle(location + file))\n",
    "similToPlot.reset_index(drop = True, inplace = True)\n",
    "\n",
    "IDtoIndex = pd.read_pickle('../workproduct-files/similarityMatrix/IDtoIndex.pkl')\n",
    "t_data = pd.read_pickle('../workproduct-files/cleaned-dataframes/t_dataMaster.pkl')\n",
    "print(len(similToPlot))"
   ]
  },
  {
   "cell_type": "code",
   "execution_count": null,
   "metadata": {},
   "outputs": [],
   "source": [
    "%%time\n",
    "similToPlot['i-id'] = similToPlot['i'].apply(lambda x: IDtoIndex.loc[IDtoIndex['index'] == x, 'CONS_id'].iloc[0])\n",
    "print('first row done')\n",
    "similToPlot['j-id'] = similToPlot['j'].apply(lambda x: IDtoIndex.loc[IDtoIndex['index'] == x, 'CONS_id'].iloc[0])\n",
    "print('second row done')\n",
    "similToPlot['i-question'] = similToPlot['i-id'].apply(lambda x: t_data.loc[t_data['CONS_id'] == x, 'CONS_question'].iloc[0])\n",
    "print('third row done')\n",
    "similToPlot['j-question'] = similToPlot['j-id'].apply(lambda x: t_data.loc[t_data['CONS_id'] == x, 'CONS_question'].iloc[0])\n",
    "print('All done')"
   ]
  },
  {
   "cell_type": "code",
   "execution_count": null,
   "metadata": {},
   "outputs": [],
   "source": [
    "similToPlotSorted = similToPlot.sort_values('similarityRatio', ascending = False).reset_index(drop = True)\n",
    "similToPlotSorted.to_pickle('../workproduct-files/similarityMatrix/FullSimilarityComparison.pkl')"
   ]
  }
 ],
 "metadata": {
  "kernelspec": {
   "display_name": "Python 3",
   "language": "python",
   "name": "python3"
  },
  "language_info": {
   "codemirror_mode": {
    "name": "ipython",
    "version": 3
   },
   "file_extension": ".py",
   "mimetype": "text/x-python",
   "name": "python",
   "nbconvert_exporter": "python",
   "pygments_lexer": "ipython3",
   "version": "3.8.2"
  }
 },
 "nbformat": 4,
 "nbformat_minor": 4
}
