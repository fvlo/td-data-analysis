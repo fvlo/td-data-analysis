{
 "cells": [
  {
   "cell_type": "markdown",
   "metadata": {},
   "source": [
    "# Setup"
   ]
  },
  {
   "cell_type": "code",
   "execution_count": null,
   "metadata": {},
   "outputs": [],
   "source": [
    "import pandas as pd\n",
    "import numpy as np\n",
    "import json\n",
    "import matplotlib.pyplot as plt\n",
    "import os\n",
    "\n",
    "pd.set_option('display.max_rows', 500)\n",
    "pd.set_option('display.max_columns', 500)\n",
    "pd.set_option('display.max_colwidth', 1000)\n",
    "\n",
    "fig_size = plt.rcParams[\"figure.figsize\"]\n",
    "fig_size[0] = 12\n",
    "fig_size[1] = 5\n",
    "plt.rcParams[\"figure.figsize\"] = fig_size"
   ]
  },
  {
   "cell_type": "markdown",
   "metadata": {},
   "source": [
    "# Overlap analysis"
   ]
  },
  {
   "cell_type": "markdown",
   "metadata": {},
   "source": [
    "## String similarity"
   ]
  },
  {
   "cell_type": "markdown",
   "metadata": {},
   "source": [
    "### Analyses of similarity data (data created in t-analysis-similarityMatrix.ipynb)"
   ]
  },
  {
   "cell_type": "code",
   "execution_count": null,
   "metadata": {},
   "outputs": [],
   "source": [
    "%%time\n",
    "similToPlot = pd.DataFrame()\n",
    "location = '../workproduct-files/similarityMatrix/partialDataFrames/'\n",
    "for file in sorted(os.listdir(location)):\n",
    "    similToPlot = similToPlot.append(pd.read_pickle(location + file))\n",
    "similToPlot.reset_index(drop = True, inplace = True)\n",
    "\n",
    "IDtoIndex = pd.read_pickle('../workproduct-files/similarityMatrix/IDtoIndex.pkl')\n",
    "t_data = pd.read_pickle('../workproduct-files/cleaned-dataframes/t_dataMaster.pkl')\n",
    "print(len(similToPlot))"
   ]
  },
  {
   "cell_type": "code",
   "execution_count": null,
   "metadata": {},
   "outputs": [],
   "source": [
    "# %%time\n",
    "# similToPlot['i-id'] = similToPlot['i'].apply(lambda x: IDtoIndex.loc[IDtoIndex['index'] == x, 'CONS_id'].iloc[0])\n",
    "# print('first row done')\n",
    "# similToPlot['j-id'] = similToPlot['j'].apply(lambda x: IDtoIndex.loc[IDtoIndex['index'] == x, 'CONS_id'].iloc[0])\n",
    "# print('second row done')\n",
    "# similToPlot['i-question'] = similToPlot['i-id'].apply(lambda x: t_data.loc[t_data['CONS_id'] == x, 'CONS_question'].iloc[0])\n",
    "# print('third row done')\n",
    "# similToPlot['j-question'] = similToPlot['j-id'].apply(lambda x: t_data.loc[t_data['CONS_id'] == x, 'CONS_question'].iloc[0])\n",
    "# print('All done')"
   ]
  },
  {
   "cell_type": "code",
   "execution_count": null,
   "metadata": {},
   "outputs": [],
   "source": [
    "# print(similToPlot['i'][1] == 158)\n",
    "# print('\\n')\n",
    "# print(similToPlot['i'][1])\n",
    "# print('\\n')\n",
    "\n",
    "# p = IDtoIndex.loc[IDtoIndex['index'] == 158, 'CONS_id'].iloc[0]\n",
    "# p2 = IDtoIndex.loc[IDtoIndex['index'] == 158, 'CONS_id'].tolist\n",
    "# print(p)"
   ]
  },
  {
   "cell_type": "code",
   "execution_count": null,
   "metadata": {},
   "outputs": [],
   "source": [
    "%%time\n",
    "bins = pd.cut(similToPlot['similarityRatio'], bins = np.linspace(0.8, 1, 21))\n",
    "binsToPlot = bins.value_counts().sort_index()"
   ]
  },
  {
   "cell_type": "code",
   "execution_count": null,
   "metadata": {},
   "outputs": [],
   "source": [
    "binsToPlot.plot.bar()"
   ]
  },
  {
   "cell_type": "code",
   "execution_count": null,
   "metadata": {},
   "outputs": [],
   "source": [
    "print(binsToPlot)"
   ]
  },
  {
   "cell_type": "code",
   "execution_count": null,
   "metadata": {},
   "outputs": [],
   "source": [
    "%%time\n",
    "similToPlotSorted = similToPlot.sort_values('similarityRatio', ascending = False)"
   ]
  },
  {
   "cell_type": "code",
   "execution_count": null,
   "metadata": {},
   "outputs": [],
   "source": [
    "dfStyler = similToPlotSorted.reset_index(drop = True).style.set_properties(**{'text-align': 'left'})\n",
    "dfStyler.set_table_styles([dict(selector='th', props=[('text-align', 'left')])])\n",
    "dfStyler"
   ]
  }
 ],
 "metadata": {
  "kernelspec": {
   "display_name": "Python 3",
   "language": "python",
   "name": "python3"
  },
  "language_info": {
   "codemirror_mode": {
    "name": "ipython",
    "version": 3
   },
   "file_extension": ".py",
   "mimetype": "text/x-python",
   "name": "python",
   "nbconvert_exporter": "python",
   "pygments_lexer": "ipython3",
   "version": "3.8.2"
  }
 },
 "nbformat": 4,
 "nbformat_minor": 4
}
