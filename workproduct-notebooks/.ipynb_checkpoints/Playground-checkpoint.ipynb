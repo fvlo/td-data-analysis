{
 "cells": [
  {
   "cell_type": "code",
   "execution_count": 16,
   "metadata": {},
   "outputs": [],
   "source": [
    "import pandas as pd\n",
    "import json\n"
   ]
  },
  {
   "cell_type": "code",
   "execution_count": 17,
   "metadata": {},
   "outputs": [],
   "source": [
    "pd.set_option('display.max_rows', 500)\n",
    "pd.set_option('display.max_columns', 500)\n",
    "pd.set_option('display.max_colwidth', 1000)"
   ]
  },
  {
   "cell_type": "code",
   "execution_count": 18,
   "metadata": {},
   "outputs": [],
   "source": [
    "similData = pd.read_pickle('../workproduct-files/similarityMatrix/FullSimilarityComparison.pkl')"
   ]
  },
  {
   "cell_type": "markdown",
   "metadata": {},
   "source": [
    "# Next up"
   ]
  },
  {
   "cell_type": "markdown",
   "metadata": {},
   "source": [
    "- Drop questions with too high similarity ratio\n",
    "- --> Data wrangling done\n",
    "- Check questions for NSFW content\n",
    "- Automatic categorization\n",
    "    - Extract Wikipedia data\n",
    "    - Identify key words in content\n",
    "- MVP fron-end"
   ]
  },
  {
   "cell_type": "code",
   "execution_count": 30,
   "metadata": {},
   "outputs": [],
   "source": [
    "similData['i-source'] = similData['i-id'].apply(lambda x: x.split('_')[0])\n",
    "similData['j-source'] = similData['j-id'].apply(lambda x: x.split('_')[0])\n",
    "similData['i-j_source'] = similData['i-source'] + '_' + similData['j-source']"
   ]
  },
  {
   "cell_type": "code",
   "execution_count": 38,
   "metadata": {},
   "outputs": [
    {
     "name": "stdout",
     "output_type": "stream",
     "text": [
      "6000\n"
     ]
    },
    {
     "data": {
      "text/plain": [
       "tdb_tdb            2373\n",
       "rtg_tdb            1945\n",
       "rtg_rtg            1572\n",
       "opentdb_tdb          51\n",
       "rtg_opentdb          32\n",
       "rtg_tfyi             14\n",
       "tfyi_tdb              6\n",
       "opentdb_opentdb       4\n",
       "tfyi_opentdb          2\n",
       "tfyi_tfyi             1\n",
       "Name: i-j_source, dtype: int64"
      ]
     },
     "execution_count": 38,
     "metadata": {},
     "output_type": "execute_result"
    }
   ],
   "source": [
    "#print(t_data['CONS_question'].loc[50000:50200])\n",
    "t = similData.head(6000)\n",
    "print(len(t))\n",
    "t['i-j_source'].value_counts()"
   ]
  }
 ],
 "metadata": {
  "kernelspec": {
   "display_name": "Python 3",
   "language": "python",
   "name": "python3"
  },
  "language_info": {
   "codemirror_mode": {
    "name": "ipython",
    "version": 3
   },
   "file_extension": ".py",
   "mimetype": "text/x-python",
   "name": "python",
   "nbconvert_exporter": "python",
   "pygments_lexer": "ipython3",
   "version": "3.8.2"
  }
 },
 "nbformat": 4,
 "nbformat_minor": 4
}
