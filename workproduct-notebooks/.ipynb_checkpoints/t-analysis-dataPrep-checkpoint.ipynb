{
 "cells": [
  {
   "cell_type": "markdown",
   "metadata": {},
   "source": [
    "# Setup"
   ]
  },
  {
   "cell_type": "code",
   "execution_count": 1,
   "metadata": {},
   "outputs": [],
   "source": [
    "import pandas as pd\n",
    "import numpy as np\n",
    "import json\n",
    "from datetime import datetime\n",
    "import html\n",
    "\n",
    "\n",
    "file_tdb = \"../edited-data/fixedJson.json\"\n",
    "file_opentdb = \"../raw-data/openTDB api call, all data_2020-05-03.json\"\n",
    "file_tfyi = \"../raw-data/triviafyi_2020-05-04.json\"\n",
    "file_rtg = \"../raw-data/rtg dataset/rtg20522-1.json\"\n"
   ]
  },
  {
   "cell_type": "code",
   "execution_count": 2,
   "metadata": {},
   "outputs": [],
   "source": [
    "with open(file_tdb, encoding=\"utf8\") as f:\n",
    "        data = f.read()\n",
    "tdb = pd.DataFrame(json.loads(data))\n",
    "\n",
    "with open(file_opentdb, encoding=\"utf8\") as f:\n",
    "        data = f.read()\n",
    "opentdb = pd.DataFrame(json.loads(data))\n",
    "\n",
    "with open(file_tfyi, encoding=\"utf8\") as f:\n",
    "        data = f.read()\n",
    "tfyi = pd.DataFrame(json.loads(data))\n",
    "\n",
    "with open(file_rtg, encoding=\"utf8\") as f:\n",
    "        data = f.read()\n",
    "rtg = pd.DataFrame(json.loads(data))"
   ]
  },
  {
   "cell_type": "markdown",
   "metadata": {},
   "source": [
    "# Data cleanup"
   ]
  },
  {
   "cell_type": "markdown",
   "metadata": {},
   "source": [
    "## RTG dataset (~20500 rows)"
   ]
  },
  {
   "cell_type": "code",
   "execution_count": 3,
   "metadata": {},
   "outputs": [],
   "source": [
    "# CLEANING DATASET\n",
    "\n",
    "# Dropping empty row with only data '_id' = 58a0f48f732c90c4fd3069ce\n",
    "\n",
    "dropIndex = rtg.loc[rtg['_id'] == '58a0f48f732c90c4fd3069ce'].index\n",
    "rtg.drop(dropIndex, inplace = True)\n",
    "rtg.reset_index(drop=True, inplace = True)\n",
    "\n",
    "# Transform 'categories' types from list to str. Checked that all rows have only 1 category in list.\n",
    "\n",
    "rtg['categories'] = rtg['categories'].apply(lambda x: x[0])\n"
   ]
  },
  {
   "cell_type": "code",
   "execution_count": 4,
   "metadata": {},
   "outputs": [],
   "source": [
    "# Edit created data to Pandas timestamp\n",
    "\n",
    "rtg['created'] = pd.to_datetime(rtg['created'], unit = 'ms', errors = 'ignore')\n",
    "rtg['created'] = pd.to_datetime(rtg['created'], errors = 'ignore')\n"
   ]
  },
  {
   "cell_type": "markdown",
   "metadata": {},
   "source": [
    "## openTDB dataset (~3700 rows)"
   ]
  },
  {
   "cell_type": "code",
   "execution_count": 5,
   "metadata": {},
   "outputs": [],
   "source": [
    "# Unescape html character encoding in 'question', 'correct_answer', and 'incorrect_answers'"
   ]
  },
  {
   "cell_type": "code",
   "execution_count": 6,
   "metadata": {},
   "outputs": [],
   "source": [
    "def unescapeListContent(aList):\n",
    "    ret = []\n",
    "    for x in aList:\n",
    "        ret.append(html.unescape(x))\n",
    "    \n",
    "    return ret"
   ]
  },
  {
   "cell_type": "code",
   "execution_count": 7,
   "metadata": {},
   "outputs": [],
   "source": [
    "opentdb['question'] = opentdb['question'].apply(lambda x: html.unescape(x)) \n",
    "opentdb['correct_answer'] = opentdb['correct_answer'].apply(lambda x: html.unescape(x)) \n",
    "opentdb['incorrect_answers'] = opentdb['incorrect_answers'].apply(lambda x: unescapeListContent(x))"
   ]
  },
  {
   "cell_type": "markdown",
   "metadata": {},
   "source": [
    "## TDB dataset (~45600 rows)"
   ]
  },
  {
   "cell_type": "code",
   "execution_count": 8,
   "metadata": {},
   "outputs": [],
   "source": [
    "# CLEANING DATASET\n",
    "\n",
    "# Removing rows with \"category_id\" column corrupt\n",
    "\n",
    "tdb_errors = tdb.loc[tdb['category_id'].str.contains(';')]\n",
    "tdb.drop(tdb_errors.index, inplace = True)\n",
    "tdb.reset_index(drop = True, inplace = True)"
   ]
  },
  {
   "cell_type": "markdown",
   "metadata": {},
   "source": [
    "## tFYI database (~1100 rows)"
   ]
  },
  {
   "cell_type": "code",
   "execution_count": 9,
   "metadata": {},
   "outputs": [],
   "source": [
    "# CLEANING DATASET\n",
    "\n",
    "# Change 'question' and 'answer' from list to string\n",
    "\n",
    "tfyi['question'] = tfyi['question'].apply(lambda x: ''.join(x))\n",
    "tfyi['answer'] = tfyi['answer'].apply(lambda x: ''.join(x))"
   ]
  },
  {
   "cell_type": "markdown",
   "metadata": {},
   "source": [
    "# Save to pickle"
   ]
  },
  {
   "cell_type": "code",
   "execution_count": 10,
   "metadata": {},
   "outputs": [],
   "source": [
    "tdb.to_pickle('../workproduct-files/cleaned-dataframes/tdb.pkl')\n",
    "opentdb.to_pickle('../workproduct-files/cleaned-dataframes/opentdb.pkl')\n",
    "tfyi.to_pickle('../workproduct-files/cleaned-dataframes/tfyi.pkl')\n",
    "rtg.to_pickle('../workproduct-files/cleaned-dataframes/rtg.pkl')"
   ]
  }
 ],
 "metadata": {
  "kernelspec": {
   "display_name": "Python 3",
   "language": "python",
   "name": "python3"
  },
  "language_info": {
   "codemirror_mode": {
    "name": "ipython",
    "version": 3
   },
   "file_extension": ".py",
   "mimetype": "text/x-python",
   "name": "python",
   "nbconvert_exporter": "python",
   "pygments_lexer": "ipython3",
   "version": "3.8.2"
  }
 },
 "nbformat": 4,
 "nbformat_minor": 4
}
