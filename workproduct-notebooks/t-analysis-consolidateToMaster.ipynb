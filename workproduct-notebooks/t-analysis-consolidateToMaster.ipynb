{
 "cells": [
  {
   "cell_type": "code",
   "execution_count": null,
   "metadata": {},
   "outputs": [],
   "source": [
    "# NEXT:\n",
    "# analysis\n",
    "# run similarity check"
   ]
  },
  {
   "cell_type": "code",
   "execution_count": 2,
   "metadata": {},
   "outputs": [],
   "source": [
    "import pandas as pd\n",
    "import numpy as np\n",
    "import csv\n",
    "\n",
    "pd.set_option('display.max_rows', 500)\n",
    "pd.set_option('display.max_columns', 500)\n",
    "pd.set_option('display.max_colwidth', 15000)"
   ]
  },
  {
   "cell_type": "code",
   "execution_count": 3,
   "metadata": {},
   "outputs": [],
   "source": [
    "tdb = pd.read_pickle('../workproduct-files/cleaned-dataframes/tdb.pkl')\n",
    "opentdb = pd.read_pickle('../workproduct-files/cleaned-dataframes/opentdb.pkl')\n",
    "tfyi = pd.read_pickle('../workproduct-files/cleaned-dataframes/tfyi.pkl')\n",
    "rtg = pd.read_pickle('../workproduct-files/cleaned-dataframes/rtg.pkl')"
   ]
  },
  {
   "cell_type": "code",
   "execution_count": 4,
   "metadata": {},
   "outputs": [],
   "source": [
    "# Define columns to be used in master data\n",
    "cols_orig = ['ORIG_id', 'ORIG_question', 'ORIG_answer', 'ORIG_alt answers', 'ORIG_category', 'ORIG_alt categories', 'ORIG_difficulty', 'ORIG_type']\n",
    "cols_cons = ['CONS_id', 'CONS_question', 'CONS_answer', 'CONS_alt answers', 'CONS_category', 'CONS_alt categories - NOT USED', 'CONS_type-formulation', 'CONS_type-multipleChoice']\n",
    "cols_cons.extend(cols_orig)\n",
    "cols = cols_cons\n"
   ]
  },
  {
   "cell_type": "code",
   "execution_count": 5,
   "metadata": {},
   "outputs": [
    {
     "name": "stdout",
     "output_type": "stream",
     "text": [
      "tdb: ['category_id' 'lang' 'tags' 'question' 'answer' 'answers' 'source']\n",
      "\n",
      "opentdb: ['category' 'type' 'difficulty' 'question' 'correct_answer'\n",
      " 'incorrect_answers']\n",
      "\n",
      "tfyi: ['question' 'answer' 'categories' 'primary_category']\n",
      "\n",
      "rtg: ['_id' 'question_no_a' 'question' 'answer' 'user' 'categories' 'tags'\n",
      " 'created' 'question_no_h' 'question_no_s' 'question_no_m' 'question_no_g'\n",
      " 'question_no_e']\n",
      "\n"
     ]
    }
   ],
   "source": [
    "# Help info only\n",
    "print(f'tdb: {tdb.columns.values}\\n')\n",
    "print(f'opentdb: {opentdb.columns.values}\\n')\n",
    "print(f'tfyi: {tfyi.columns.values}\\n')\n",
    "print(f'rtg: {rtg.columns.values}\\n')"
   ]
  },
  {
   "cell_type": "markdown",
   "metadata": {},
   "source": [
    "### Create master table for each data set"
   ]
  },
  {
   "cell_type": "code",
   "execution_count": 6,
   "metadata": {},
   "outputs": [],
   "source": [
    "# tdb\n",
    "\n",
    "cons_tdb = pd.DataFrame(columns = cols)\n",
    "\n",
    "# Format original id to hexadecimal with padding 8\n",
    "cons_tdb['ORIG_id'] = tdb.index.values\n",
    "cons_tdb['ORIG_id'] = cons_tdb['ORIG_id'].apply(lambda x: f\"tdb_{x:#0{8}x}\")\n",
    "\n",
    "cons_tdb['ORIG_category'] = tdb['category_id']\n",
    "cons_tdb['ORIG_question'] = tdb['question']\n",
    "cons_tdb['ORIG_answer'] = tdb['answer']\n",
    "cons_tdb['ORIG_alt answers'] = tdb['answers']\n",
    "\n",
    "cons_tdb['CONS_question'] = cons_tdb['ORIG_question']\n",
    "cons_tdb['CONS_answer'] = cons_tdb['ORIG_alt answers'].apply(lambda x: x[0])\n",
    "\n",
    "# NOTE: 'CONS_alt answers' should contain only incorrect answers\n",
    "cons_tdb['CONS_alt answers'] = cons_tdb['ORIG_alt answers'].apply(lambda x: x[1:]) # index 0 is removed (correct answer)\n",
    "cons_tdb.loc[cons_tdb['CONS_alt answers'].map(len) == 0, ['CONS_alt answers']] = np.nan # empty lists are changed to NaN"
   ]
  },
  {
   "cell_type": "code",
   "execution_count": 7,
   "metadata": {},
   "outputs": [],
   "source": [
    "# opentdb\n",
    "\n",
    "cons_opentdb = pd.DataFrame(columns = cols)\n",
    "\n",
    "# Format original id to hexadecimal with padding 8\n",
    "cons_opentdb['ORIG_id'] = opentdb.index.values\n",
    "cons_opentdb['ORIG_id'] = cons_opentdb['ORIG_id'].apply(lambda x: f\"opentdb_{x:#0{8}x}\")\n",
    "\n",
    "cons_opentdb['ORIG_category'] = opentdb['category']\n",
    "cons_opentdb['ORIG_question'] = opentdb['question']\n",
    "cons_opentdb['ORIG_answer'] = opentdb['correct_answer']\n",
    "cons_opentdb['ORIG_alt answers'] = opentdb['incorrect_answers']\n",
    "cons_opentdb['ORIG_difficulty'] = opentdb['difficulty']\n",
    "cons_opentdb['ORIG_type'] = opentdb['type']\n",
    "\n",
    "cons_opentdb['CONS_question'] = cons_opentdb['ORIG_question']\n",
    "cons_opentdb['CONS_answer'] = cons_opentdb['ORIG_answer']\n",
    "\n",
    "# NOTE: 'CONS_alt answers' should contain only incorrect answers\n",
    "cons_opentdb['CONS_alt answers'] = cons_opentdb['ORIG_alt answers']"
   ]
  },
  {
   "cell_type": "code",
   "execution_count": 8,
   "metadata": {},
   "outputs": [],
   "source": [
    "# tfyi\n",
    "\n",
    "def shortenText(x):\n",
    "    y = []\n",
    "    for item in x:\n",
    "        y.append(item[:-7])\n",
    "    x = y\n",
    "    return x\n",
    "\n",
    "\n",
    "cons_tfyi = pd.DataFrame(columns = cols)\n",
    "\n",
    "cons_tfyi['ORIG_id'] = tfyi.index.values\n",
    "cons_tfyi['ORIG_id'] = cons_tfyi['ORIG_id'].apply(lambda x: f\"tfyi_{x:#0{8}x}\")\n",
    "\n",
    "cons_tfyi['ORIG_category'] = tfyi['primary_category'].apply(lambda x: x[:-7]) # string ' Trivia' is removed from end of category name\n",
    "cons_tfyi['ORIG_question'] = tfyi['question']\n",
    "cons_tfyi['ORIG_answer'] = tfyi['answer']\n",
    "cons_tfyi['ORIG_alt categories'] = tfyi['categories']\n",
    "cons_tfyi['ORIG_alt categories'] = cons_tfyi['ORIG_alt categories'].apply(lambda x: x[1:]) # index 0 is removed (primary category)\n",
    "cons_tfyi['ORIG_alt categories'] = cons_tfyi['ORIG_alt categories'].apply(lambda x: shortenText(x)) # string ' Trivia' is removed from end of category name\n",
    "cons_tfyi.loc[cons_tfyi['ORIG_alt categories'].map(len) == 0, ['ORIG_alt categories']] = np.nan # empty lists are changed to NaN\n",
    "\n",
    "cons_tfyi['CONS_question'] = cons_tfyi['ORIG_question']\n",
    "cons_tfyi['CONS_answer'] = cons_tfyi['ORIG_answer']"
   ]
  },
  {
   "cell_type": "code",
   "execution_count": 9,
   "metadata": {},
   "outputs": [],
   "source": [
    "# rtg\n",
    "\n",
    "cons_rtg = pd.DataFrame(columns = cols)\n",
    "\n",
    "cons_rtg['ORIG_id'] = rtg.index.values\n",
    "cons_rtg['ORIG_id'] = cons_rtg['ORIG_id'].apply(lambda x: f\"rtg_{x:#0{8}x}\")\n",
    "\n",
    "cons_rtg['ORIG_category'] = rtg['categories']\n",
    "cons_rtg['ORIG_question'] = rtg['question']\n",
    "cons_rtg['ORIG_answer'] = rtg['answer']\n",
    "cons_rtg['ORIG_alt categories'] = rtg['tags']\n",
    "cons_rtg.loc[cons_rtg['ORIG_alt categories'].map(len) == 0, ['ORIG_alt categories']] = np.nan # empty lists are changed to NaN\n",
    "\n",
    "cons_rtg['CONS_question'] = cons_rtg['ORIG_question']\n",
    "cons_rtg['CONS_answer'] = cons_rtg['ORIG_answer']"
   ]
  },
  {
   "cell_type": "markdown",
   "metadata": {},
   "source": [
    "### Creating consolidated master table"
   ]
  },
  {
   "cell_type": "code",
   "execution_count": 10,
   "metadata": {},
   "outputs": [],
   "source": [
    "# Combining to master\n",
    "\n",
    "t_data = cons_tdb.append([cons_opentdb, cons_tfyi, cons_rtg])\n",
    "t_data.reset_index(drop = True, inplace = True)"
   ]
  },
  {
   "cell_type": "code",
   "execution_count": 11,
   "metadata": {},
   "outputs": [],
   "source": [
    "# Strip leading and trailing whitespaces in 'CONS_question' and 'CONS_answer'\n",
    "\n",
    "t_data['CONS_question'] = t_data['CONS_question'].str.strip()\n",
    "t_data['CONS_answer'] = t_data['CONS_answer'].str.strip()"
   ]
  },
  {
   "cell_type": "code",
   "execution_count": 12,
   "metadata": {},
   "outputs": [],
   "source": [
    "# Import category mapping file\n",
    "\n",
    "with open('../edited-data/Category mapping.csv', mode='r') as infile:\n",
    "    reader = csv.reader(infile)\n",
    "    catMapping = {rows[0]:rows[1] for rows in reader}"
   ]
  },
  {
   "cell_type": "code",
   "execution_count": 13,
   "metadata": {},
   "outputs": [],
   "source": [
    "# Map values in 'ORIG_category' to 'CONS_category' using category mapping table\n",
    "# NOTE: 'CONS_alt categories' not mapped and filled - column not used\n",
    "\n",
    "t_data['CONS_category'] = t_data['ORIG_category']\n",
    "t_data['CONS_category'].replace(catMapping, inplace = True)"
   ]
  },
  {
   "cell_type": "code",
   "execution_count": 14,
   "metadata": {},
   "outputs": [],
   "source": [
    "# If alternative answers exist, 'CONS_type-multipleChoice' is set to True, otherwise False\n",
    "\n",
    "t_data['CONS_type-multipleChoice'] = t_data['CONS_alt answers'].notnull()"
   ]
  },
  {
   "cell_type": "code",
   "execution_count": 15,
   "metadata": {},
   "outputs": [],
   "source": [
    "# 'CONS_type-formulation'\n",
    "# TODO: If answer is 'True' or 'False' -> set 'CONS_type-formulation' to 'Statement - boolean'"
   ]
  },
  {
   "cell_type": "code",
   "execution_count": 16,
   "metadata": {},
   "outputs": [],
   "source": [
    "#Correcting 'CONS_question' formatting (removing trailing \" and adding ? where necessary)\n",
    "\n",
    "# Find questions that end in \" and have an odd number of \" (i.e. quotes are not part of the question)\n",
    "qEndinQuote = t_data.loc[:,'CONS_question'].apply(lambda x: x.count('\"') % 2 != 0 and x[-1] in ['\"'])\n",
    "\n",
    "# From these, remove the trailing \"\n",
    "t_data.loc[qEndinQuote, 'CONS_question'] = t_data.loc[qEndinQuote, 'CONS_question'].apply(lambda x: x[:-1])\n",
    "\n",
    "# Find questions containing question word and not ending in ? or . or ?\"\n",
    "questionWords = ('who', 'what', 'when', 'where', 'why', 'how', 'which')\n",
    "qNeedsQmark = t_data.loc[:,'CONS_question'].apply(lambda x: any(y in x.lower() for y in questionWords) and x[-1] not in ['?', '.'] and x[-2:] not in ['?\"'])\n",
    "\n",
    "# Add ? to end if necessary\n",
    "t_data.loc[qNeedsQmark, 'CONS_question'] = t_data.loc[qNeedsQmark, 'CONS_question'].apply(lambda x: x + '?')"
   ]
  },
  {
   "cell_type": "code",
   "execution_count": 17,
   "metadata": {},
   "outputs": [],
   "source": [
    "# Add 'CONS_type-formulation' value: 'Question', 'Statement - open', 'Statement - boolean'\n",
    "\n",
    "endInQmark = t_data['CONS_question'].apply(lambda x: x[-1] == '?' or x[-2:] == '?\"')\n",
    "answerTrueOrFalse = t_data['CONS_answer'].apply(lambda x: x.lower() == 'true' or x.lower() == 'false')\n",
    "\n",
    "# Set all 'CONS_type-formulation' to 'Statement - open'\n",
    "t_data['CONS_type-formulation'] = 'Statement - open'\n",
    "\n",
    "# Set rows where question ends in ? to 'Question' (overrides previous)\n",
    "t_data.loc[endInQmark, 'CONS_type-formulation'] = 'Question'\n",
    "\n",
    "# Set rows where answer is true or false to 'Statement - boolean' (overrides previous)\n",
    "t_data.loc[answerTrueOrFalse, 'CONS_type-formulation'] = 'Statement - boolean'"
   ]
  },
  {
   "cell_type": "code",
   "execution_count": 18,
   "metadata": {},
   "outputs": [],
   "source": [
    "# Set 'CONS_id' to 'ORIG_id'\n",
    "\n",
    "t_data['CONS_id'] = t_data['ORIG_id']"
   ]
  },
  {
   "cell_type": "code",
   "execution_count": 19,
   "metadata": {},
   "outputs": [],
   "source": [
    "# Add 'Source' column to t_data and set value from 'ORIG_id'\n",
    "\n",
    "t_data['Source'] = t_data['ORIG_id'].apply(lambda x: x.split('_')[0])"
   ]
  },
  {
   "cell_type": "code",
   "execution_count": 20,
   "metadata": {},
   "outputs": [],
   "source": [
    "t_data.to_pickle('../workproduct-files/cleaned-dataframes/t_dataMaster.pkl')\n",
    "# print(t_data)"
   ]
  }
 ],
 "metadata": {
  "kernelspec": {
   "display_name": "Python 3",
   "language": "python",
   "name": "python3"
  },
  "language_info": {
   "codemirror_mode": {
    "name": "ipython",
    "version": 3
   },
   "file_extension": ".py",
   "mimetype": "text/x-python",
   "name": "python",
   "nbconvert_exporter": "python",
   "pygments_lexer": "ipython3",
   "version": "3.8.2"
  }
 },
 "nbformat": 4,
 "nbformat_minor": 4
}
