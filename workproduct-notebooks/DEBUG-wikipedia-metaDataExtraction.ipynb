{
 "cells": [
  {
   "cell_type": "markdown",
   "metadata": {},
   "source": [
    "Problem is probably that <text> tag has to long content (full article)\n",
    "\n",
    "check: \n",
    "    - https://stackoverflow.com/questions/33828728/what-is-the-maximum-size-of-an-xml-file-when-using-pythons-lxml-etree\n",
    "    - https://stackoverflow.com/questions/11850345/using-python-lxml-etree-for-huge-xml-files\n",
    "    - https://stackoverflow.com/questions/47229309/what-are-the-differences-between-lxml-and-elementtree"
   ]
  },
  {
   "cell_type": "markdown",
   "metadata": {},
   "source": [
    "https://docs.python.org/3/library/xml.etree.elementtree.html#xml.etree.ElementTree.iterparse\n",
    "\n",
    "\n",
    "Note\n",
    "\n",
    "iterparse() only guarantees that it has seen the “>” character of a starting tag when it emits a “start” event, so the attributes are defined, but the contents of the text and tail attributes are undefined at that point. The same applies to the element children; they may or may not be present.\n",
    "\n",
    "If you need a fully populated element, look for “end” events instead.\n"
   ]
  },
  {
   "cell_type": "code",
   "execution_count": 1,
   "metadata": {},
   "outputs": [],
   "source": [
    "\"\"\"\n",
    "Based on: \"Processing Large XML Wikipedia Dumps that won't fit in RAM in Python without Spark\" https://www.youtube.com/watch?v=AeRN4zI7Dhk\n",
    "\n",
    "\"\"\"\n",
    "\n",
    "import xml.etree.ElementTree as etree\n",
    "import codecs\n",
    "import csv\n",
    "import time\n",
    "import os\n",
    "import re\n",
    "\n",
    "PATH_WIKI_XML = 'F:/wikipedia-data/'\n",
    "FILENAME_WIKI = 'enwiki-latest-pages-articles.xml'\n",
    "FILENAME_ARTICLES = 'articlesDEBUG.csv'\n",
    "FILENAME_REDIRECT = 'redirectDEBUG.csv'\n",
    "FILENAME_CATEGORY = 'categoriesDEBUG.csv'\n",
    "ENCODING = \"utf-8\""
   ]
  },
  {
   "cell_type": "code",
   "execution_count": 2,
   "metadata": {},
   "outputs": [],
   "source": [
    "# Nicely formatted time string\n",
    "def hms_string(sec_elapsed):\n",
    "    h = int(sec_elapsed / (60 * 60))\n",
    "    m = int((sec_elapsed % (60 * 60)) / 60)\n",
    "    s = sec_elapsed % 60\n",
    "    return \"{}:{:>02}:{:>05.2f}\".format(h, m, s)"
   ]
  },
  {
   "cell_type": "code",
   "execution_count": 3,
   "metadata": {},
   "outputs": [],
   "source": [
    "def strip_tag_name(t):\n",
    "    t = elem.tag\n",
    "    idx = k = t.rfind(\"}\")\n",
    "    if idx != -1:\n",
    "        t = t[idx + 1:]\n",
    "    return t"
   ]
  },
  {
   "cell_type": "code",
   "execution_count": 4,
   "metadata": {},
   "outputs": [],
   "source": [
    "pathWikiXML = os.path.join(PATH_WIKI_XML, FILENAME_WIKI)\n",
    "pathArticles = os.path.join(PATH_WIKI_XML, FILENAME_ARTICLES)\n",
    "# pathArticlesRedirect = os.path.join(PATH_WIKI_XML, FILENAME_REDIRECT)\n",
    "pathCategory = os.path.join(PATH_WIKI_XML, FILENAME_CATEGORY)\n",
    "pathRedirect = os.path.join(PATH_WIKI_XML, FILENAME_REDIRECT)"
   ]
  },
  {
   "cell_type": "code",
   "execution_count": 5,
   "metadata": {},
   "outputs": [],
   "source": [
    "totalCount = 0\n",
    "articleCount = 0\n",
    "redirectCount = 0\n",
    "categoryCount = 0\n",
    "title = None\n",
    "start_time = time.time()"
   ]
  },
  {
   "cell_type": "code",
   "execution_count": 6,
   "metadata": {},
   "outputs": [
    {
     "ename": "KeyboardInterrupt",
     "evalue": "",
     "output_type": "error",
     "traceback": [
      "\u001b[1;31m---------------------------------------------------------------------------\u001b[0m",
      "\u001b[1;31mKeyboardInterrupt\u001b[0m                         Traceback (most recent call last)",
      "\u001b[1;32m<ipython-input-6-5d0dfcbfbb10>\u001b[0m in \u001b[0;36m<module>\u001b[1;34m\u001b[0m\n\u001b[0;32m     10\u001b[0m \u001b[1;33m\u001b[0m\u001b[0m\n\u001b[0;32m     11\u001b[0m \u001b[1;33m\u001b[0m\u001b[0m\n\u001b[1;32m---> 12\u001b[1;33m     \u001b[1;32mfor\u001b[0m \u001b[0mevent\u001b[0m\u001b[1;33m,\u001b[0m \u001b[0melem\u001b[0m \u001b[1;32min\u001b[0m \u001b[0metree\u001b[0m\u001b[1;33m.\u001b[0m\u001b[0miterparse\u001b[0m\u001b[1;33m(\u001b[0m\u001b[0mpathWikiXML\u001b[0m\u001b[1;33m,\u001b[0m \u001b[0mevents\u001b[0m\u001b[1;33m=\u001b[0m\u001b[1;33m(\u001b[0m\u001b[1;34m'start'\u001b[0m\u001b[1;33m,\u001b[0m \u001b[1;34m'end'\u001b[0m\u001b[1;33m)\u001b[0m\u001b[1;33m)\u001b[0m\u001b[1;33m:\u001b[0m\u001b[1;33m\u001b[0m\u001b[1;33m\u001b[0m\u001b[0m\n\u001b[0m\u001b[0;32m     13\u001b[0m         \u001b[0mtname\u001b[0m \u001b[1;33m=\u001b[0m \u001b[0mstrip_tag_name\u001b[0m\u001b[1;33m(\u001b[0m\u001b[0melem\u001b[0m\u001b[1;33m.\u001b[0m\u001b[0mtag\u001b[0m\u001b[1;33m)\u001b[0m\u001b[1;33m\u001b[0m\u001b[1;33m\u001b[0m\u001b[0m\n\u001b[0;32m     14\u001b[0m \u001b[1;33m\u001b[0m\u001b[0m\n",
      "\u001b[1;32m~\\miniconda3\\envs\\data-analysis\\lib\\xml\\etree\\ElementTree.py\u001b[0m in \u001b[0;36miterator\u001b[1;34m()\u001b[0m\n\u001b[0;32m   1227\u001b[0m                 \u001b[1;32myield\u001b[0m \u001b[1;32mfrom\u001b[0m \u001b[0mpullparser\u001b[0m\u001b[1;33m.\u001b[0m\u001b[0mread_events\u001b[0m\u001b[1;33m(\u001b[0m\u001b[1;33m)\u001b[0m\u001b[1;33m\u001b[0m\u001b[1;33m\u001b[0m\u001b[0m\n\u001b[0;32m   1228\u001b[0m                 \u001b[1;31m# load event buffer\u001b[0m\u001b[1;33m\u001b[0m\u001b[1;33m\u001b[0m\u001b[1;33m\u001b[0m\u001b[0m\n\u001b[1;32m-> 1229\u001b[1;33m                 \u001b[0mdata\u001b[0m \u001b[1;33m=\u001b[0m \u001b[0msource\u001b[0m\u001b[1;33m.\u001b[0m\u001b[0mread\u001b[0m\u001b[1;33m(\u001b[0m\u001b[1;36m16\u001b[0m \u001b[1;33m*\u001b[0m \u001b[1;36m1024\u001b[0m\u001b[1;33m)\u001b[0m\u001b[1;33m\u001b[0m\u001b[1;33m\u001b[0m\u001b[0m\n\u001b[0m\u001b[0;32m   1230\u001b[0m                 \u001b[1;32mif\u001b[0m \u001b[1;32mnot\u001b[0m \u001b[0mdata\u001b[0m\u001b[1;33m:\u001b[0m\u001b[1;33m\u001b[0m\u001b[1;33m\u001b[0m\u001b[0m\n\u001b[0;32m   1231\u001b[0m                     \u001b[1;32mbreak\u001b[0m\u001b[1;33m\u001b[0m\u001b[1;33m\u001b[0m\u001b[0m\n",
      "\u001b[1;31mKeyboardInterrupt\u001b[0m: "
     ]
    }
   ],
   "source": [
    "with codecs.open(pathArticles, \"w\", ENCODING) as articlesFH:\n",
    "    \n",
    "    articlesWriter = csv.writer(articlesFH, quoting=csv.QUOTE_MINIMAL)\n",
    "    #categoryWriter = csv.writer(categoryFH, quoting=csv.QUOTE_MINIMAL)\n",
    "    #redirectWriter = csv.writer(redirectFH, quoting=csv.QUOTE_MINIMAL)\n",
    "\n",
    "    articlesWriter.writerow(['id', 'title', 'parentCategories', 'links'])\n",
    "    #categoryWriter.writerow(['id', 'title', 'parentCategories'])\n",
    "    #redirectWriter.writerow(['id', 'title', 'redirect'])\n",
    "    \n",
    "    \n",
    "    for event, elem in etree.iterparse(pathWikiXML, events=('start', 'end')):\n",
    "        tname = strip_tag_name(elem.tag)\n",
    "\n",
    "        if event == 'start':\n",
    "            if tname == 'page':\n",
    "                title = ''\n",
    "                id = -1\n",
    "                redirect = False\n",
    "                inrevision = False\n",
    "                isredirect = False\n",
    "                ns = 0\n",
    "                parentCategories = 'Not run'\n",
    "                links = 'Not run'\n",
    "                articleText = 'Category:xxxERROR IF IN DATAxxx'\n",
    "            elif tname == 'revision':\n",
    "                # Do not pick up on revision id's\n",
    "                inrevision = True\n",
    "            elif tname == 'title':\n",
    "                    title = elem.text\n",
    "\n",
    "            elif tname == 'id' and not inrevision and elem.text!=None:\n",
    "                id = int(elem.text)\n",
    "            elif tname == 'redirect':\n",
    "                redirect = elem.get('title', '')\n",
    "                isredirect = True\n",
    "            elif tname == 'ns' and elem.text!=None:\n",
    "                ns = int(elem.text)\n",
    "            \n",
    "            \n",
    "        elif tname == 'text':\n",
    "                articleText = str(elem.text)\n",
    "                parentCategories = articleText[:20]\n",
    "                #links = re.findall(r'\\[\\[(.*?)\\]\\]', articleText)\n",
    "                       \n",
    "        \n",
    "        elif tname == 'page':\n",
    "            totalCount += 1\n",
    "\n",
    "            if ns == 14:\n",
    "                categoryCount += 1\n",
    "                #categoryWriter.writerow([id, title, parentCategories])\n",
    "            elif isredirect:\n",
    "                redirectCount += 1    \n",
    "                #redirectWriter.writerow([id, title, redirect])\n",
    "            elif ns == 0:\n",
    "                articleCount += 1\n",
    "                articlesWriter.writerow([id, title, parentCategories, links])\n",
    "                \n",
    "                # Category info is contained within <text> tag and in format [[Category:Autism| ]]\n",
    "            \n",
    "#             else:\n",
    "#                 redirectCount += 1\n",
    "#                 redirectWriter.writerow([id, title, redirect])\n",
    "\n",
    "            if totalCount > 1 and (totalCount % 100000) == 0:\n",
    "                print(\"{:,}\".format(totalCount))\n",
    "\n",
    "        elem.clear()\n",
    "        \n",
    "time_took = time.time() - start_time\n",
    "print(f\"Total runtime: {hms_string(time_took)}\")"
   ]
  }
 ],
 "metadata": {
  "kernelspec": {
   "display_name": "Python 3",
   "language": "python",
   "name": "python3"
  },
  "language_info": {
   "codemirror_mode": {
    "name": "ipython",
    "version": 3
   },
   "file_extension": ".py",
   "mimetype": "text/x-python",
   "name": "python",
   "nbconvert_exporter": "python",
   "pygments_lexer": "ipython3",
   "version": "3.8.2"
  }
 },
 "nbformat": 4,
 "nbformat_minor": 4
}
