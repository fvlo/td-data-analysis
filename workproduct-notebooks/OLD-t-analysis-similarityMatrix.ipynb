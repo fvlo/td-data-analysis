{
 "cells": [
  {
   "cell_type": "markdown",
   "metadata": {},
   "source": [
    "# Setup"
   ]
  },
  {
   "cell_type": "code",
   "execution_count": 8,
   "metadata": {},
   "outputs": [],
   "source": [
    "import pandas as pd\n",
    "import numpy as np\n",
    "import json\n",
    "import matplotlib.pyplot as plt\n",
    "from Levenshtein import ratio as stringSimilarity\n",
    "\n",
    "pd.set_option('display.max_rows', 500)\n",
    "pd.set_option('display.max_columns', 500)\n",
    "pd.set_option('display.max_colwidth', 1000)\n",
    "\n",
    "fig_size = plt.rcParams[\"figure.figsize\"]\n",
    "fig_size[0] = 12\n",
    "fig_size[1] = 5\n",
    "plt.rcParams[\"figure.figsize\"] = fig_size\n",
    "\n",
    "pd.set_option('display.max_rows', 500)\n",
    "pd.set_option('display.max_columns', 500)\n",
    "pd.set_option('display.max_colwidth', 1000)\n"
   ]
  },
  {
   "cell_type": "code",
   "execution_count": 2,
   "metadata": {},
   "outputs": [],
   "source": [
    "tdb = pd.read_pickle('../workproduct-files/cleaned-dataframes/tdb.pkl')\n",
    "opentdb = pd.read_pickle('../workproduct-files/cleaned-dataframes/opentdb.pkl')\n",
    "tfyi = pd.read_pickle('../workproduct-files/cleaned-dataframes/tfyi.pkl')\n",
    "rtg = pd.read_pickle('../workproduct-files/cleaned-dataframes/rtg.pkl')"
   ]
  },
  {
   "cell_type": "markdown",
   "metadata": {},
   "source": [
    "# Overlap analysis"
   ]
  },
  {
   "cell_type": "markdown",
   "metadata": {},
   "source": [
    "## String similarity"
   ]
  },
  {
   "cell_type": "markdown",
   "metadata": {},
   "source": [
    "### Functions and function calls to run 'from Levenshtein import ratio as stringSimilarity' calculations"
   ]
  },
  {
   "cell_type": "code",
   "execution_count": 3,
   "metadata": {},
   "outputs": [],
   "source": [
    "# calculates similarity between single string y and list of strings in x\n",
    "def similFunc(x, y):\n",
    "    ret = []\n",
    "    ret = x.apply(lambda x: stringSimilarity(x, y))\n",
    "    ret = ret.tolist()\n",
    "    return ret"
   ]
  },
  {
   "cell_type": "code",
   "execution_count": 4,
   "metadata": {},
   "outputs": [],
   "source": [
    "def compareStrings(d, parts):\n",
    "    \n",
    "    # 1. input is data (d) Series and nr to split it into (parts)\n",
    "    # 2. while i <  parts:\n",
    "    #         run the similFunc on rows / parts and d\n",
    "    \n",
    "    for i in range(0, parts):\n",
    "        \n",
    "        startInd = int(np.floor(len(d) / parts) * i)\n",
    "        \n",
    "        if i == parts - 1:\n",
    "            endInd = None\n",
    "        else:\n",
    "            endInd = int(np.floor(len(d) / parts) * (i + 1))\n",
    "        \n",
    "        qSimil = pd.DataFrame(columns = ['q'])\n",
    "        qSimil['q'] = d[startInd:endInd]\n",
    "        # qSimil.set_index(part.index)... or something. Saving index prob not necessary. Do if buggy.\n",
    "\n",
    "\n",
    "        asLists = qSimil['q'].apply(lambda x: similFunc(d, x) )\n",
    "\n",
    "\n",
    "        calcs = asLists.apply(pd.Series)\n",
    "        qSimil = pd.concat([qSimil[:], calcs[:]], axis = 1)\n",
    "        \n",
    "        fileI = str(i+1)\n",
    "        if len(fileI) < len(str(parts)):\n",
    "            pre = '0' * (len(str(parts)) - len(fileI))\n",
    "            fileI = pre + fileI\n",
    "\n",
    "        qSimil.to_pickle('../workproduct-files/similarityMatrix/partialDataFrames/similarityM-' + str(fileI) + 'of' + str(parts) + '.pkl')\n",
    "    "
   ]
  },
  {
   "cell_type": "code",
   "execution_count": 5,
   "metadata": {},
   "outputs": [],
   "source": [
    "allQuestions = tdb['question'].append([ opentdb['question'], rtg['question'], tfyi['question'] ])\n",
    "allQuestions.reset_index(drop = True, inplace = True)"
   ]
  },
  {
   "cell_type": "code",
   "execution_count": 6,
   "metadata": {},
   "outputs": [
    {
     "name": "stdout",
     "output_type": "stream",
     "text": [
      "Wall time: 267 ms\n"
     ]
    }
   ],
   "source": [
    "similData = allQuestions.head(100)\n",
    "partsToSplit = 10\n",
    "\n",
    "%time compareStrings(similData, partsToSplit)\n",
    "\n",
    "# Here masterID to allQuestions index should be saved for mapping later on.\n",
    "# Only 'q' Series still passed to functions"
   ]
  }
 ],
 "metadata": {
  "kernelspec": {
   "display_name": "Python 3",
   "language": "python",
   "name": "python3"
  },
  "language_info": {
   "codemirror_mode": {
    "name": "ipython",
    "version": 3
   },
   "file_extension": ".py",
   "mimetype": "text/x-python",
   "name": "python",
   "nbconvert_exporter": "python",
   "pygments_lexer": "ipython3",
   "version": "3.8.2"
  }
 },
 "nbformat": 4,
 "nbformat_minor": 4
}
